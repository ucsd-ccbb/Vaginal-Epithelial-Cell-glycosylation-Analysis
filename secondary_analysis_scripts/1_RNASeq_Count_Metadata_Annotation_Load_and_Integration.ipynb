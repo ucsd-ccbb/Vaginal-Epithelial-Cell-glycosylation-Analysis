{
 "cells": [
  {
   "cell_type": "markdown",
   "metadata": {},
   "source": [
    " # Dr. Kativa Agarwal RNA-seq analysis of VK2 cells\n"
   ]
  },
  {
   "cell_type": "markdown",
   "metadata": {},
   "source": [
    "# RNASeq Data Integration"
   ]
  },
  {
   "cell_type": "markdown",
   "metadata": {},
   "source": [
    "* Daisy Chilin-Fuentes, CCBB (dchilinfuentes@ucsd.edu)\n",
    "* Based on upstream analysis by Daisy Chilin-Fuentes, CCBB (dchilinfuentes@ucsd.edu)\n"
   ]
  },
  {
   "cell_type": "markdown",
   "metadata": {},
   "source": [
    "* Modeled on \"RNA-seq analysis is easy as 1-2-3 with limma, Glimma and edgeR\" ([1](#Citations))\n",
    "\n",
    "## Table of Contents\n",
    "* [Background](#Background)\n",
    "* [Introduction](#Introduction)\n",
    "* [Parameter Input](#Parameter-Input)\n",
    "* [Library Import](#Library-Import)\n",
    "* [Data Import](#Data-Import)\n",
    "    * [Count Data](#Count-Data)\n",
    "    * [Metadata](#Metadata)\n",
    "    * [Annotations](#Annotations)\n",
    "* [Gene Separation By Coding Status](#Gene-Separation-By-Coding-Status)\n",
    "* [Data Integration](#Data-Integration)\n",
    "* [Annotation Integration](#Annotation-Integration)\n",
    "* [Summary](#Summary)\n",
    "* [Citations](#Citations)\n",
    "* [Appendix: R Session Info](#Appendix:-R-Session-Info)\n",
    "\n",
    "\n",
    "## Background"
   ]
  },
  {
   "cell_type": "markdown",
   "metadata": {},
   "source": [
    "The count data analyzed in this notebook were produced by the upstream analysis of Daisy Chilin-Fuentes of CCBB, who received raw sequencing data and performed quality control, trimming, alignment, and quantification of reads.\n"
   ]
  },
  {
   "cell_type": "markdown",
   "metadata": {},
   "source": [
    "[Table of Contents](#Table-of-Contents)\n",
    "\n",
    "## Introduction\n",
    "\n",
    "This notebook takes in per-gene-per-sample count data (prepared either externally or by the  \"RNASeq_RSEM_QC_and_Counts_Preparation\" notebook) and per-sample metadata RNASeq data, and uses the edgeR ([2](#Citations)) Bioconductor ([3](#Citations)) package written in R ([4](#Citations)) to integrate and annotate these inputs in preparation for data exploration and preprocessing."
   ]
  },
  {
   "cell_type": "markdown",
   "metadata": {},
   "source": [
    "[Table of Contents](#Table-of-Contents)\n",
    "\n",
    "## Parameter Input"
   ]
  },
  {
   "cell_type": "code",
   "execution_count": 1,
   "metadata": {},
   "outputs": [],
   "source": [
    "gProjectName = \"Agarwal-Lewis_bulkRNAseq\"\n",
    "gGeneCountsFilename = \"counts.txt\"\n",
    "gMetadataFilename = \"KavitaSamplesMetadata.tsv\"\n",
    "\n",
    "\n",
    "gAnnotationsRdataFilename = \"Homo_sapiens_GRCh38p13_gencodev38_ANNOT.Rdata\""
   ]
  },
  {
   "cell_type": "code",
   "execution_count": 3,
   "metadata": {},
   "outputs": [
    {
     "name": "stderr",
     "output_type": "stream",
     "text": [
      "Warning message in dir.create(paste0(gOutputDir, \"/data_integration\")):\n",
      "“'../secondary_analysis_results/data_integration' already exists”\n"
     ]
    }
   ],
   "source": [
    "gSourceDir = \"./src/\" # note trailing slash here but not below\n",
    "gOutputDir = \"../secondary_analysis_results\"\n",
    "gReferenceDir = \"../reference\"\n",
    "gInterimDir = \"../interim\"\n",
    "gGeneCountsFp = file.path(gOutputDir, \"RSEM_QC_and_Counts_Preparation\", gGeneCountsFilename)\n",
    "gMetadataFp = file.path(gReferenceDir, gMetadataFilename)\n",
    "\n",
    "gOutputDir_nb1 <- paste0(gOutputDir, \"/data_integration\")\n",
    "dir.create(paste0(gOutputDir, \"/data_integration\")) \n"
   ]
  },
  {
   "cell_type": "code",
   "execution_count": 4,
   "metadata": {},
   "outputs": [],
   "source": [
    "# Import shared source code to load and save previous notebooks' environments:\n",
    "source(paste0(gSourceDir, \"ChainedNotebookSupport.R\"))"
   ]
  },
  {
   "cell_type": "markdown",
   "metadata": {},
   "source": [
    "Populate the run name parameter automatically to ensure that outputs from different runs do not overwrite each other:"
   ]
  },
  {
   "cell_type": "code",
   "execution_count": 5,
   "metadata": {},
   "outputs": [
    {
     "data": {
      "text/html": [
       "'20230302161642'"
      ],
      "text/latex": [
       "'20230302161642'"
      ],
      "text/markdown": [
       "'20230302161642'"
      ],
      "text/plain": [
       "[1] \"20230302161642\""
      ]
     },
     "metadata": {},
     "output_type": "display_data"
    }
   ],
   "source": [
    "gRunName = format(Sys.time(), \"%Y%m%d%H%M%S\")\n",
    "gRunName"
   ]
  },
  {
   "cell_type": "code",
   "execution_count": 48,
   "metadata": {},
   "outputs": [
    {
     "data": {
      "text/html": [
       "'../secondary_analysis_results/data_integration/20230302161642/20230302161642'"
      ],
      "text/latex": [
       "'../secondary\\_analysis\\_results/data\\_integration/20230302161642/20230302161642'"
      ],
      "text/markdown": [
       "'../secondary_analysis_results/data_integration/20230302161642/20230302161642'"
      ],
      "text/plain": [
       "[1] \"../secondary_analysis_results/data_integration/20230302161642/20230302161642\""
      ]
     },
     "metadata": {},
     "output_type": "display_data"
    }
   ],
   "source": [
    "# Create subdirectory with timestamp to keep multiple iterations separated\n",
    "gOutputDir_nb1 <- paste0(gOutputDir_nb1, \"/\", gRunName)\n",
    "dir.create(gOutputDir_nb1) \n",
    "gOutputDir_nb1"
   ]
  },
  {
   "cell_type": "code",
   "execution_count": null,
   "metadata": {},
   "outputs": [],
   "source": []
  },
  {
   "cell_type": "markdown",
   "metadata": {},
   "source": [
    "[Table of Contents](#Table-of-Contents)\n",
    "\n",
    "## Library Import\n",
    "\n",
    "Import the necessary R, Bioconductor, and CCBB libraries for the analysis:"
   ]
  },
  {
   "cell_type": "code",
   "execution_count": 7,
   "metadata": {},
   "outputs": [],
   "source": [
    "#if (!requireNamespace(\"BiocManager\", quietly = TRUE))\n",
    "#    install.packages(\"BiocManager\")"
   ]
  },
  {
   "cell_type": "code",
   "execution_count": 8,
   "metadata": {},
   "outputs": [],
   "source": [
    "#BiocManager::install(\"edgeR\", version = \"3.8\")"
   ]
  },
  {
   "cell_type": "code",
   "execution_count": 9,
   "metadata": {},
   "outputs": [],
   "source": [
    "#BiocManager::install(\"Homo.sapiens\", version = \"3.8\")"
   ]
  },
  {
   "cell_type": "code",
   "execution_count": 49,
   "metadata": {},
   "outputs": [],
   "source": [
    "library(Homo.sapiens)\n",
    "gOrganismPackage = Homo.sapiens"
   ]
  },
  {
   "cell_type": "code",
   "execution_count": 50,
   "metadata": {},
   "outputs": [],
   "source": [
    "library(edgeR)"
   ]
  },
  {
   "cell_type": "markdown",
   "metadata": {},
   "source": [
    "[Table of Contents](#Table-of-Contents)\n",
    "\n",
    "\n",
    "## Data Import\n",
    "\n",
    "### Count Data\n",
    "\n",
    "Import the count data file in which rows are genes identifiers, columns are sample identifiers, and row/column intersections contain the number of counts for the relevant gene in the relevant sample:"
   ]
  },
  {
   "cell_type": "code",
   "execution_count": 51,
   "metadata": {},
   "outputs": [
    {
     "data": {
      "text/html": [
       "<style>\n",
       ".list-inline {list-style: none; margin:0; padding: 0}\n",
       ".list-inline>li {display: inline-block}\n",
       ".list-inline>li:not(:last-child)::after {content: \"\\00b7\"; padding: 0 .5ex}\n",
       "</style>\n",
       "<ol class=list-inline><li>60605</li><li>12</li></ol>\n"
      ],
      "text/latex": [
       "\\begin{enumerate*}\n",
       "\\item 60605\n",
       "\\item 12\n",
       "\\end{enumerate*}\n"
      ],
      "text/markdown": [
       "1. 60605\n",
       "2. 12\n",
       "\n",
       "\n"
      ],
      "text/plain": [
       "[1] 60605    12"
      ]
     },
     "metadata": {},
     "output_type": "display_data"
    }
   ],
   "source": [
    "# Read in counts file containing info on all samples and genes\n",
    "gUnorderedGeneCountsDf <- read.csv(gGeneCountsFp, sep=\"\\t\", stringsAsFactors=FALSE, row.names=1)\n",
    "dim(gUnorderedGeneCountsDf)"
   ]
  },
  {
   "cell_type": "code",
   "execution_count": 52,
   "metadata": {},
   "outputs": [
    {
     "data": {
      "text/html": [
       "<table class=\"dataframe\">\n",
       "<caption>A data.frame: 6 × 12</caption>\n",
       "<thead>\n",
       "\t<tr><th></th><th scope=col>VK2_NanH2_PolyB25_1h_5</th><th scope=col>VK2_NanH2_PolyB25_1h_6</th><th scope=col>VK2_NanH2_PolyB25_1h_7</th><th scope=col>VK2_NanH2_PolyB25_1h_8</th><th scope=col>VK2_NanH2_PolyB25_2h_1</th><th scope=col>VK2_NanH2_PolyB25_2h_2</th><th scope=col>VK2_NanH2_PolyB25_2h_3</th><th scope=col>VK2_NanH2_PolyB25_2h_4</th><th scope=col>VK2_Pet28a_PolyB25_2h_10</th><th scope=col>VK2_Pet28a_PolyB25_2h_11</th><th scope=col>VK2_Pet28a_PolyB25_2h_12</th><th scope=col>VK2_Pet28a_PolyB25_2h_9</th></tr>\n",
       "\t<tr><th></th><th scope=col>&lt;dbl&gt;</th><th scope=col>&lt;dbl&gt;</th><th scope=col>&lt;dbl&gt;</th><th scope=col>&lt;dbl&gt;</th><th scope=col>&lt;dbl&gt;</th><th scope=col>&lt;dbl&gt;</th><th scope=col>&lt;dbl&gt;</th><th scope=col>&lt;dbl&gt;</th><th scope=col>&lt;dbl&gt;</th><th scope=col>&lt;dbl&gt;</th><th scope=col>&lt;dbl&gt;</th><th scope=col>&lt;dbl&gt;</th></tr>\n",
       "</thead>\n",
       "<tbody>\n",
       "\t<tr><th scope=row>ENSG00000000003.15</th><td> 502.00</td><td> 416.00</td><td> 424.00</td><td> 497.00</td><td> 356.00</td><td> 542.00</td><td> 364.00</td><td> 299.00</td><td> 387.00</td><td> 465.00</td><td> 366.00</td><td> 323.00</td></tr>\n",
       "\t<tr><th scope=row>ENSG00000000005.6</th><td>   0.00</td><td>   0.00</td><td>   0.00</td><td>   0.00</td><td>   0.00</td><td>   0.00</td><td>   0.00</td><td>   0.00</td><td>   0.00</td><td>   0.00</td><td>   0.00</td><td>   0.00</td></tr>\n",
       "\t<tr><th scope=row>ENSG00000000419.14</th><td>2340.00</td><td>2232.04</td><td>2253.00</td><td>2573.36</td><td>2080.11</td><td>3080.00</td><td>2206.80</td><td>1721.00</td><td>2084.00</td><td>2412.42</td><td>2170.07</td><td>1904.05</td></tr>\n",
       "\t<tr><th scope=row>ENSG00000000457.14</th><td> 153.65</td><td>  94.84</td><td> 112.33</td><td> 130.23</td><td> 113.88</td><td> 119.35</td><td>  85.84</td><td> 102.65</td><td>  98.34</td><td> 120.36</td><td>  91.56</td><td> 119.77</td></tr>\n",
       "\t<tr><th scope=row>ENSG00000000460.17</th><td> 254.35</td><td> 200.16</td><td> 242.67</td><td> 292.77</td><td> 181.12</td><td> 285.65</td><td> 181.16</td><td> 209.35</td><td> 189.66</td><td> 190.64</td><td> 204.44</td><td> 234.23</td></tr>\n",
       "\t<tr><th scope=row>ENSG00000000938.13</th><td>  10.00</td><td>   6.00</td><td>   6.00</td><td>   9.00</td><td>   4.00</td><td>  21.00</td><td>  10.00</td><td>  18.00</td><td>  13.00</td><td>  17.00</td><td>  13.00</td><td>  10.00</td></tr>\n",
       "</tbody>\n",
       "</table>\n"
      ],
      "text/latex": [
       "A data.frame: 6 × 12\n",
       "\\begin{tabular}{r|llllllllllll}\n",
       "  & VK2\\_NanH2\\_PolyB25\\_1h\\_5 & VK2\\_NanH2\\_PolyB25\\_1h\\_6 & VK2\\_NanH2\\_PolyB25\\_1h\\_7 & VK2\\_NanH2\\_PolyB25\\_1h\\_8 & VK2\\_NanH2\\_PolyB25\\_2h\\_1 & VK2\\_NanH2\\_PolyB25\\_2h\\_2 & VK2\\_NanH2\\_PolyB25\\_2h\\_3 & VK2\\_NanH2\\_PolyB25\\_2h\\_4 & VK2\\_Pet28a\\_PolyB25\\_2h\\_10 & VK2\\_Pet28a\\_PolyB25\\_2h\\_11 & VK2\\_Pet28a\\_PolyB25\\_2h\\_12 & VK2\\_Pet28a\\_PolyB25\\_2h\\_9\\\\\n",
       "  & <dbl> & <dbl> & <dbl> & <dbl> & <dbl> & <dbl> & <dbl> & <dbl> & <dbl> & <dbl> & <dbl> & <dbl>\\\\\n",
       "\\hline\n",
       "\tENSG00000000003.15 &  502.00 &  416.00 &  424.00 &  497.00 &  356.00 &  542.00 &  364.00 &  299.00 &  387.00 &  465.00 &  366.00 &  323.00\\\\\n",
       "\tENSG00000000005.6 &    0.00 &    0.00 &    0.00 &    0.00 &    0.00 &    0.00 &    0.00 &    0.00 &    0.00 &    0.00 &    0.00 &    0.00\\\\\n",
       "\tENSG00000000419.14 & 2340.00 & 2232.04 & 2253.00 & 2573.36 & 2080.11 & 3080.00 & 2206.80 & 1721.00 & 2084.00 & 2412.42 & 2170.07 & 1904.05\\\\\n",
       "\tENSG00000000457.14 &  153.65 &   94.84 &  112.33 &  130.23 &  113.88 &  119.35 &   85.84 &  102.65 &   98.34 &  120.36 &   91.56 &  119.77\\\\\n",
       "\tENSG00000000460.17 &  254.35 &  200.16 &  242.67 &  292.77 &  181.12 &  285.65 &  181.16 &  209.35 &  189.66 &  190.64 &  204.44 &  234.23\\\\\n",
       "\tENSG00000000938.13 &   10.00 &    6.00 &    6.00 &    9.00 &    4.00 &   21.00 &   10.00 &   18.00 &   13.00 &   17.00 &   13.00 &   10.00\\\\\n",
       "\\end{tabular}\n"
      ],
      "text/markdown": [
       "\n",
       "A data.frame: 6 × 12\n",
       "\n",
       "| <!--/--> | VK2_NanH2_PolyB25_1h_5 &lt;dbl&gt; | VK2_NanH2_PolyB25_1h_6 &lt;dbl&gt; | VK2_NanH2_PolyB25_1h_7 &lt;dbl&gt; | VK2_NanH2_PolyB25_1h_8 &lt;dbl&gt; | VK2_NanH2_PolyB25_2h_1 &lt;dbl&gt; | VK2_NanH2_PolyB25_2h_2 &lt;dbl&gt; | VK2_NanH2_PolyB25_2h_3 &lt;dbl&gt; | VK2_NanH2_PolyB25_2h_4 &lt;dbl&gt; | VK2_Pet28a_PolyB25_2h_10 &lt;dbl&gt; | VK2_Pet28a_PolyB25_2h_11 &lt;dbl&gt; | VK2_Pet28a_PolyB25_2h_12 &lt;dbl&gt; | VK2_Pet28a_PolyB25_2h_9 &lt;dbl&gt; |\n",
       "|---|---|---|---|---|---|---|---|---|---|---|---|---|\n",
       "| ENSG00000000003.15 |  502.00 |  416.00 |  424.00 |  497.00 |  356.00 |  542.00 |  364.00 |  299.00 |  387.00 |  465.00 |  366.00 |  323.00 |\n",
       "| ENSG00000000005.6 |    0.00 |    0.00 |    0.00 |    0.00 |    0.00 |    0.00 |    0.00 |    0.00 |    0.00 |    0.00 |    0.00 |    0.00 |\n",
       "| ENSG00000000419.14 | 2340.00 | 2232.04 | 2253.00 | 2573.36 | 2080.11 | 3080.00 | 2206.80 | 1721.00 | 2084.00 | 2412.42 | 2170.07 | 1904.05 |\n",
       "| ENSG00000000457.14 |  153.65 |   94.84 |  112.33 |  130.23 |  113.88 |  119.35 |   85.84 |  102.65 |   98.34 |  120.36 |   91.56 |  119.77 |\n",
       "| ENSG00000000460.17 |  254.35 |  200.16 |  242.67 |  292.77 |  181.12 |  285.65 |  181.16 |  209.35 |  189.66 |  190.64 |  204.44 |  234.23 |\n",
       "| ENSG00000000938.13 |   10.00 |    6.00 |    6.00 |    9.00 |    4.00 |   21.00 |   10.00 |   18.00 |   13.00 |   17.00 |   13.00 |   10.00 |\n",
       "\n"
      ],
      "text/plain": [
       "                   VK2_NanH2_PolyB25_1h_5 VK2_NanH2_PolyB25_1h_6\n",
       "ENSG00000000003.15  502.00                 416.00               \n",
       "ENSG00000000005.6     0.00                   0.00               \n",
       "ENSG00000000419.14 2340.00                2232.04               \n",
       "ENSG00000000457.14  153.65                  94.84               \n",
       "ENSG00000000460.17  254.35                 200.16               \n",
       "ENSG00000000938.13   10.00                   6.00               \n",
       "                   VK2_NanH2_PolyB25_1h_7 VK2_NanH2_PolyB25_1h_8\n",
       "ENSG00000000003.15  424.00                 497.00               \n",
       "ENSG00000000005.6     0.00                   0.00               \n",
       "ENSG00000000419.14 2253.00                2573.36               \n",
       "ENSG00000000457.14  112.33                 130.23               \n",
       "ENSG00000000460.17  242.67                 292.77               \n",
       "ENSG00000000938.13    6.00                   9.00               \n",
       "                   VK2_NanH2_PolyB25_2h_1 VK2_NanH2_PolyB25_2h_2\n",
       "ENSG00000000003.15  356.00                 542.00               \n",
       "ENSG00000000005.6     0.00                   0.00               \n",
       "ENSG00000000419.14 2080.11                3080.00               \n",
       "ENSG00000000457.14  113.88                 119.35               \n",
       "ENSG00000000460.17  181.12                 285.65               \n",
       "ENSG00000000938.13    4.00                  21.00               \n",
       "                   VK2_NanH2_PolyB25_2h_3 VK2_NanH2_PolyB25_2h_4\n",
       "ENSG00000000003.15  364.00                 299.00               \n",
       "ENSG00000000005.6     0.00                   0.00               \n",
       "ENSG00000000419.14 2206.80                1721.00               \n",
       "ENSG00000000457.14   85.84                 102.65               \n",
       "ENSG00000000460.17  181.16                 209.35               \n",
       "ENSG00000000938.13   10.00                  18.00               \n",
       "                   VK2_Pet28a_PolyB25_2h_10 VK2_Pet28a_PolyB25_2h_11\n",
       "ENSG00000000003.15  387.00                   465.00                 \n",
       "ENSG00000000005.6     0.00                     0.00                 \n",
       "ENSG00000000419.14 2084.00                  2412.42                 \n",
       "ENSG00000000457.14   98.34                   120.36                 \n",
       "ENSG00000000460.17  189.66                   190.64                 \n",
       "ENSG00000000938.13   13.00                    17.00                 \n",
       "                   VK2_Pet28a_PolyB25_2h_12 VK2_Pet28a_PolyB25_2h_9\n",
       "ENSG00000000003.15  366.00                   323.00                \n",
       "ENSG00000000005.6     0.00                     0.00                \n",
       "ENSG00000000419.14 2170.07                  1904.05                \n",
       "ENSG00000000457.14   91.56                   119.77                \n",
       "ENSG00000000460.17  204.44                   234.23                \n",
       "ENSG00000000938.13   13.00                    10.00                "
      ]
     },
     "metadata": {},
     "output_type": "display_data"
    }
   ],
   "source": [
    "head(gUnorderedGeneCountsDf)"
   ]
  },
  {
   "cell_type": "code",
   "execution_count": 53,
   "metadata": {},
   "outputs": [],
   "source": [
    "detectParRecords = function(geneCountsDf){\n",
    "    gene_names <- rownames(geneCountsDf)\n",
    "    PAR_genes <- gene_names[grep(\"_PAR_\", gene_names)] \n",
    "    if (length(PAR_genes) == 0){\n",
    "        print(\"No PAR genes detected; analysis can proceed.\")\n",
    "    } else {\n",
    "        print(\"ERROR: PAR genes found.  These must be removed before continuing analysis.\")\n",
    "    }\n",
    "    return(PAR_genes)\n",
    "}"
   ]
  },
  {
   "cell_type": "code",
   "execution_count": 54,
   "metadata": {},
   "outputs": [
    {
     "name": "stdout",
     "output_type": "stream",
     "text": [
      "[1] \"No PAR genes detected; analysis can proceed.\"\n"
     ]
    },
    {
     "data": {
      "text/html": [],
      "text/latex": [],
      "text/markdown": [],
      "text/plain": [
       "character(0)"
      ]
     },
     "metadata": {},
     "output_type": "display_data"
    }
   ],
   "source": [
    "detectParRecords(gUnorderedGeneCountsDf)"
   ]
  },
  {
   "cell_type": "markdown",
   "metadata": {},
   "source": [
    "No assumption is made that the columns (samples) of the gene count file are currently ordered in the order desirable for the differential expression analysis."
   ]
  },
  {
   "cell_type": "markdown",
   "metadata": {},
   "source": [
    "[Table of Contents](#Table-of-Contents)\n",
    "\n",
    "### Metadata\n",
    "\n",
    "> For downstream analysis, sample-level information related to the experimental design needs to be associated with the columns of the counts matrix. This should include experimental variables, both biological and technical, that could have an effect on expression levels. Examples [could] include cell type (basal, LP and ML in this experiment), genotype (wild-type, knock-out), phenotype (disease status, sex, age), sample treatment (drug, control) and batch information (date experiment was performed if samples were collected and analysed at distinct time points) to name just a few. ([1](#Citations))\n",
    "\n",
    "Import a metadata file in which rows are sample identifiers, columns are metadata features (e.g., subject id, time point, etc) and row/column intersections contain the value of the relevant feature for the relevant sample:"
   ]
  },
  {
   "cell_type": "code",
   "execution_count": 55,
   "metadata": {},
   "outputs": [
    {
     "data": {
      "text/html": [
       "<style>\n",
       ".list-inline {list-style: none; margin:0; padding: 0}\n",
       ".list-inline>li {display: inline-block}\n",
       ".list-inline>li:not(:last-child)::after {content: \"\\00b7\"; padding: 0 .5ex}\n",
       "</style>\n",
       "<ol class=list-inline><li>12</li><li>6</li></ol>\n"
      ],
      "text/latex": [
       "\\begin{enumerate*}\n",
       "\\item 12\n",
       "\\item 6\n",
       "\\end{enumerate*}\n"
      ],
      "text/markdown": [
       "1. 12\n",
       "2. 6\n",
       "\n",
       "\n"
      ],
      "text/plain": [
       "[1] 12  6"
      ]
     },
     "metadata": {},
     "output_type": "display_data"
    }
   ],
   "source": [
    "#Read in metadata\n",
    "gMetadataDf <- read.csv(gMetadataFp, stringsAsFactors=FALSE, sep = \"\\t\")\n",
    "dim(gMetadataDf)"
   ]
  },
  {
   "cell_type": "code",
   "execution_count": 56,
   "metadata": {},
   "outputs": [
    {
     "data": {
      "text/html": [
       "<table class=\"dataframe\">\n",
       "<caption>A data.frame: 6 × 6</caption>\n",
       "<thead>\n",
       "\t<tr><th></th><th scope=col>Sample.Name</th><th scope=col>Sample.Code</th><th scope=col>Reference.Genome..Organism.</th><th scope=col>Gender</th><th scope=col>Condition</th><th scope=col>Time.point</th></tr>\n",
       "\t<tr><th></th><th scope=col>&lt;chr&gt;</th><th scope=col>&lt;chr&gt;</th><th scope=col>&lt;chr&gt;</th><th scope=col>&lt;chr&gt;</th><th scope=col>&lt;chr&gt;</th><th scope=col>&lt;chr&gt;</th></tr>\n",
       "</thead>\n",
       "<tbody>\n",
       "\t<tr><th scope=row>1</th><td>VK2_NanH2_PolyB25_2h_1</td><td>K001</td><td>Human</td><td>Female</td><td>NanH2 treated</td><td>2 hour</td></tr>\n",
       "\t<tr><th scope=row>2</th><td>VK2_NanH2_PolyB25_2h_2</td><td>K002</td><td>Human</td><td>Female</td><td>NanH2 treated</td><td>2 hour</td></tr>\n",
       "\t<tr><th scope=row>3</th><td>VK2_NanH2_PolyB25_2h_3</td><td>K003</td><td>Human</td><td>Female</td><td>NanH2 treated</td><td>2 hour</td></tr>\n",
       "\t<tr><th scope=row>4</th><td>VK2_NanH2_PolyB25_2h_4</td><td>K004</td><td>Human</td><td>Female</td><td>NanH2 treated</td><td>2 hour</td></tr>\n",
       "\t<tr><th scope=row>5</th><td>VK2_NanH2_PolyB25_1h_5</td><td>K005</td><td>Human</td><td>Female</td><td>NanH2 treated</td><td>1 hour</td></tr>\n",
       "\t<tr><th scope=row>6</th><td>VK2_NanH2_PolyB25_1h_6</td><td>K006</td><td>Human</td><td>Female</td><td>NanH2 treated</td><td>1 hour</td></tr>\n",
       "</tbody>\n",
       "</table>\n"
      ],
      "text/latex": [
       "A data.frame: 6 × 6\n",
       "\\begin{tabular}{r|llllll}\n",
       "  & Sample.Name & Sample.Code & Reference.Genome..Organism. & Gender & Condition & Time.point\\\\\n",
       "  & <chr> & <chr> & <chr> & <chr> & <chr> & <chr>\\\\\n",
       "\\hline\n",
       "\t1 & VK2\\_NanH2\\_PolyB25\\_2h\\_1 & K001 & Human & Female & NanH2 treated & 2 hour\\\\\n",
       "\t2 & VK2\\_NanH2\\_PolyB25\\_2h\\_2 & K002 & Human & Female & NanH2 treated & 2 hour\\\\\n",
       "\t3 & VK2\\_NanH2\\_PolyB25\\_2h\\_3 & K003 & Human & Female & NanH2 treated & 2 hour\\\\\n",
       "\t4 & VK2\\_NanH2\\_PolyB25\\_2h\\_4 & K004 & Human & Female & NanH2 treated & 2 hour\\\\\n",
       "\t5 & VK2\\_NanH2\\_PolyB25\\_1h\\_5 & K005 & Human & Female & NanH2 treated & 1 hour\\\\\n",
       "\t6 & VK2\\_NanH2\\_PolyB25\\_1h\\_6 & K006 & Human & Female & NanH2 treated & 1 hour\\\\\n",
       "\\end{tabular}\n"
      ],
      "text/markdown": [
       "\n",
       "A data.frame: 6 × 6\n",
       "\n",
       "| <!--/--> | Sample.Name &lt;chr&gt; | Sample.Code &lt;chr&gt; | Reference.Genome..Organism. &lt;chr&gt; | Gender &lt;chr&gt; | Condition &lt;chr&gt; | Time.point &lt;chr&gt; |\n",
       "|---|---|---|---|---|---|---|\n",
       "| 1 | VK2_NanH2_PolyB25_2h_1 | K001 | Human | Female | NanH2 treated | 2 hour |\n",
       "| 2 | VK2_NanH2_PolyB25_2h_2 | K002 | Human | Female | NanH2 treated | 2 hour |\n",
       "| 3 | VK2_NanH2_PolyB25_2h_3 | K003 | Human | Female | NanH2 treated | 2 hour |\n",
       "| 4 | VK2_NanH2_PolyB25_2h_4 | K004 | Human | Female | NanH2 treated | 2 hour |\n",
       "| 5 | VK2_NanH2_PolyB25_1h_5 | K005 | Human | Female | NanH2 treated | 1 hour |\n",
       "| 6 | VK2_NanH2_PolyB25_1h_6 | K006 | Human | Female | NanH2 treated | 1 hour |\n",
       "\n"
      ],
      "text/plain": [
       "  Sample.Name            Sample.Code Reference.Genome..Organism. Gender\n",
       "1 VK2_NanH2_PolyB25_2h_1 K001        Human                       Female\n",
       "2 VK2_NanH2_PolyB25_2h_2 K002        Human                       Female\n",
       "3 VK2_NanH2_PolyB25_2h_3 K003        Human                       Female\n",
       "4 VK2_NanH2_PolyB25_2h_4 K004        Human                       Female\n",
       "5 VK2_NanH2_PolyB25_1h_5 K005        Human                       Female\n",
       "6 VK2_NanH2_PolyB25_1h_6 K006        Human                       Female\n",
       "  Condition     Time.point\n",
       "1 NanH2 treated 2 hour    \n",
       "2 NanH2 treated 2 hour    \n",
       "3 NanH2 treated 2 hour    \n",
       "4 NanH2 treated 2 hour    \n",
       "5 NanH2 treated 1 hour    \n",
       "6 NanH2 treated 1 hour    "
      ]
     },
     "metadata": {},
     "output_type": "display_data"
    }
   ],
   "source": [
    "head(gMetadataDf)"
   ]
  },
  {
   "cell_type": "code",
   "execution_count": 59,
   "metadata": {},
   "outputs": [
    {
     "data": {
      "text/html": [
       "<table class=\"dataframe\">\n",
       "<caption>A data.frame: 6 × 7</caption>\n",
       "<thead>\n",
       "\t<tr><th></th><th scope=col>Sample.Name</th><th scope=col>Sample.Code</th><th scope=col>Reference.Genome..Organism.</th><th scope=col>Gender</th><th scope=col>Condition</th><th scope=col>Time.point</th><th scope=col>Condition_Time</th></tr>\n",
       "\t<tr><th></th><th scope=col>&lt;chr&gt;</th><th scope=col>&lt;chr&gt;</th><th scope=col>&lt;chr&gt;</th><th scope=col>&lt;chr&gt;</th><th scope=col>&lt;chr&gt;</th><th scope=col>&lt;chr&gt;</th><th scope=col>&lt;chr&gt;</th></tr>\n",
       "</thead>\n",
       "<tbody>\n",
       "\t<tr><th scope=row>1</th><td>VK2_NanH2_PolyB25_2h_1</td><td>K001</td><td>Human</td><td>Female</td><td>NanH2_treated</td><td>2H</td><td>NanH2_treated_2H</td></tr>\n",
       "\t<tr><th scope=row>2</th><td>VK2_NanH2_PolyB25_2h_2</td><td>K002</td><td>Human</td><td>Female</td><td>NanH2_treated</td><td>2H</td><td>NanH2_treated_2H</td></tr>\n",
       "\t<tr><th scope=row>3</th><td>VK2_NanH2_PolyB25_2h_3</td><td>K003</td><td>Human</td><td>Female</td><td>NanH2_treated</td><td>2H</td><td>NanH2_treated_2H</td></tr>\n",
       "\t<tr><th scope=row>4</th><td>VK2_NanH2_PolyB25_2h_4</td><td>K004</td><td>Human</td><td>Female</td><td>NanH2_treated</td><td>2H</td><td>NanH2_treated_2H</td></tr>\n",
       "\t<tr><th scope=row>5</th><td>VK2_NanH2_PolyB25_1h_5</td><td>K005</td><td>Human</td><td>Female</td><td>NanH2_treated</td><td>1H</td><td>NanH2_treated_1H</td></tr>\n",
       "\t<tr><th scope=row>6</th><td>VK2_NanH2_PolyB25_1h_6</td><td>K006</td><td>Human</td><td>Female</td><td>NanH2_treated</td><td>1H</td><td>NanH2_treated_1H</td></tr>\n",
       "</tbody>\n",
       "</table>\n"
      ],
      "text/latex": [
       "A data.frame: 6 × 7\n",
       "\\begin{tabular}{r|lllllll}\n",
       "  & Sample.Name & Sample.Code & Reference.Genome..Organism. & Gender & Condition & Time.point & Condition\\_Time\\\\\n",
       "  & <chr> & <chr> & <chr> & <chr> & <chr> & <chr> & <chr>\\\\\n",
       "\\hline\n",
       "\t1 & VK2\\_NanH2\\_PolyB25\\_2h\\_1 & K001 & Human & Female & NanH2\\_treated & 2H & NanH2\\_treated\\_2H\\\\\n",
       "\t2 & VK2\\_NanH2\\_PolyB25\\_2h\\_2 & K002 & Human & Female & NanH2\\_treated & 2H & NanH2\\_treated\\_2H\\\\\n",
       "\t3 & VK2\\_NanH2\\_PolyB25\\_2h\\_3 & K003 & Human & Female & NanH2\\_treated & 2H & NanH2\\_treated\\_2H\\\\\n",
       "\t4 & VK2\\_NanH2\\_PolyB25\\_2h\\_4 & K004 & Human & Female & NanH2\\_treated & 2H & NanH2\\_treated\\_2H\\\\\n",
       "\t5 & VK2\\_NanH2\\_PolyB25\\_1h\\_5 & K005 & Human & Female & NanH2\\_treated & 1H & NanH2\\_treated\\_1H\\\\\n",
       "\t6 & VK2\\_NanH2\\_PolyB25\\_1h\\_6 & K006 & Human & Female & NanH2\\_treated & 1H & NanH2\\_treated\\_1H\\\\\n",
       "\\end{tabular}\n"
      ],
      "text/markdown": [
       "\n",
       "A data.frame: 6 × 7\n",
       "\n",
       "| <!--/--> | Sample.Name &lt;chr&gt; | Sample.Code &lt;chr&gt; | Reference.Genome..Organism. &lt;chr&gt; | Gender &lt;chr&gt; | Condition &lt;chr&gt; | Time.point &lt;chr&gt; | Condition_Time &lt;chr&gt; |\n",
       "|---|---|---|---|---|---|---|---|\n",
       "| 1 | VK2_NanH2_PolyB25_2h_1 | K001 | Human | Female | NanH2_treated | 2H | NanH2_treated_2H |\n",
       "| 2 | VK2_NanH2_PolyB25_2h_2 | K002 | Human | Female | NanH2_treated | 2H | NanH2_treated_2H |\n",
       "| 3 | VK2_NanH2_PolyB25_2h_3 | K003 | Human | Female | NanH2_treated | 2H | NanH2_treated_2H |\n",
       "| 4 | VK2_NanH2_PolyB25_2h_4 | K004 | Human | Female | NanH2_treated | 2H | NanH2_treated_2H |\n",
       "| 5 | VK2_NanH2_PolyB25_1h_5 | K005 | Human | Female | NanH2_treated | 1H | NanH2_treated_1H |\n",
       "| 6 | VK2_NanH2_PolyB25_1h_6 | K006 | Human | Female | NanH2_treated | 1H | NanH2_treated_1H |\n",
       "\n"
      ],
      "text/plain": [
       "  Sample.Name            Sample.Code Reference.Genome..Organism. Gender\n",
       "1 VK2_NanH2_PolyB25_2h_1 K001        Human                       Female\n",
       "2 VK2_NanH2_PolyB25_2h_2 K002        Human                       Female\n",
       "3 VK2_NanH2_PolyB25_2h_3 K003        Human                       Female\n",
       "4 VK2_NanH2_PolyB25_2h_4 K004        Human                       Female\n",
       "5 VK2_NanH2_PolyB25_1h_5 K005        Human                       Female\n",
       "6 VK2_NanH2_PolyB25_1h_6 K006        Human                       Female\n",
       "  Condition     Time.point Condition_Time  \n",
       "1 NanH2_treated 2H         NanH2_treated_2H\n",
       "2 NanH2_treated 2H         NanH2_treated_2H\n",
       "3 NanH2_treated 2H         NanH2_treated_2H\n",
       "4 NanH2_treated 2H         NanH2_treated_2H\n",
       "5 NanH2_treated 1H         NanH2_treated_1H\n",
       "6 NanH2_treated 1H         NanH2_treated_1H"
      ]
     },
     "metadata": {},
     "output_type": "display_data"
    }
   ],
   "source": [
    "#remove spaces\n",
    "gMetadataDf$Condition <- gsub(\" \", \"_\", gMetadataDf$Condition)\n",
    "gMetadataDf$Time.point <- gsub(\"2 hour\", \"2H\", gMetadataDf$Time.point)\n",
    "gMetadataDf$Time.point <- gsub(\"1 hour\", \"1H\", gMetadataDf$Time.point)\n",
    "\n",
    "\n",
    "#add another col\n",
    "gMetadataDf$Condition_Time <- paste(gMetadataDf$Condition, gMetadataDf$Time.point, sep=\"_\")\n",
    "head(gMetadataDf)"
   ]
  },
  {
   "cell_type": "code",
   "execution_count": 60,
   "metadata": {},
   "outputs": [],
   "source": [
    "gSampleNames = gMetadataDf[[\"Sample.Name\"]]"
   ]
  },
  {
   "cell_type": "markdown",
   "metadata": {},
   "source": [
    "Check the dimensions of the count data and the metadata to ensure that the count dataframe has the same number of columns (samples) as the metadata dataframe has rows (again, samples), and that the sample names are the same in both: "
   ]
  },
  {
   "cell_type": "code",
   "execution_count": 61,
   "metadata": {},
   "outputs": [
    {
     "data": {
      "text/html": [
       "<style>\n",
       ".list-inline {list-style: none; margin:0; padding: 0}\n",
       ".list-inline>li {display: inline-block}\n",
       ".list-inline>li:not(:last-child)::after {content: \"\\00b7\"; padding: 0 .5ex}\n",
       "</style>\n",
       "<ol class=list-inline><li>60605</li><li>12</li></ol>\n"
      ],
      "text/latex": [
       "\\begin{enumerate*}\n",
       "\\item 60605\n",
       "\\item 12\n",
       "\\end{enumerate*}\n"
      ],
      "text/markdown": [
       "1. 60605\n",
       "2. 12\n",
       "\n",
       "\n"
      ],
      "text/plain": [
       "[1] 60605    12"
      ]
     },
     "metadata": {},
     "output_type": "display_data"
    },
    {
     "data": {
      "text/html": [
       "<style>\n",
       ".list-inline {list-style: none; margin:0; padding: 0}\n",
       ".list-inline>li {display: inline-block}\n",
       ".list-inline>li:not(:last-child)::after {content: \"\\00b7\"; padding: 0 .5ex}\n",
       "</style>\n",
       "<ol class=list-inline><li>12</li><li>7</li></ol>\n"
      ],
      "text/latex": [
       "\\begin{enumerate*}\n",
       "\\item 12\n",
       "\\item 7\n",
       "\\end{enumerate*}\n"
      ],
      "text/markdown": [
       "1. 12\n",
       "2. 7\n",
       "\n",
       "\n"
      ],
      "text/plain": [
       "[1] 12  7"
      ]
     },
     "metadata": {},
     "output_type": "display_data"
    },
    {
     "data": {
      "text/html": [
       "TRUE"
      ],
      "text/latex": [
       "TRUE"
      ],
      "text/markdown": [
       "TRUE"
      ],
      "text/plain": [
       "[1] TRUE"
      ]
     },
     "metadata": {},
     "output_type": "display_data"
    }
   ],
   "source": [
    "dim(gUnorderedGeneCountsDf)\n",
    "dim(gMetadataDf)\n",
    "\n",
    "all(colnames(gUnorderedGeneCountsDf) %in% gSampleNames)"
   ]
  },
  {
   "cell_type": "markdown",
   "metadata": {},
   "source": [
    "Assume that the order of the samples shown in the metadata is the desired order, and reorder the columns in the counts table to match it:"
   ]
  },
  {
   "cell_type": "code",
   "execution_count": 62,
   "metadata": {},
   "outputs": [
    {
     "data": {
      "text/html": [
       "<table class=\"dataframe\">\n",
       "<caption>A data.frame: 6 × 12</caption>\n",
       "<thead>\n",
       "\t<tr><th></th><th scope=col>VK2_NanH2_PolyB25_2h_1</th><th scope=col>VK2_NanH2_PolyB25_2h_2</th><th scope=col>VK2_NanH2_PolyB25_2h_3</th><th scope=col>VK2_NanH2_PolyB25_2h_4</th><th scope=col>VK2_NanH2_PolyB25_1h_5</th><th scope=col>VK2_NanH2_PolyB25_1h_6</th><th scope=col>VK2_NanH2_PolyB25_1h_7</th><th scope=col>VK2_NanH2_PolyB25_1h_8</th><th scope=col>VK2_Pet28a_PolyB25_2h_9</th><th scope=col>VK2_Pet28a_PolyB25_2h_10</th><th scope=col>VK2_Pet28a_PolyB25_2h_11</th><th scope=col>VK2_Pet28a_PolyB25_2h_12</th></tr>\n",
       "\t<tr><th></th><th scope=col>&lt;dbl&gt;</th><th scope=col>&lt;dbl&gt;</th><th scope=col>&lt;dbl&gt;</th><th scope=col>&lt;dbl&gt;</th><th scope=col>&lt;dbl&gt;</th><th scope=col>&lt;dbl&gt;</th><th scope=col>&lt;dbl&gt;</th><th scope=col>&lt;dbl&gt;</th><th scope=col>&lt;dbl&gt;</th><th scope=col>&lt;dbl&gt;</th><th scope=col>&lt;dbl&gt;</th><th scope=col>&lt;dbl&gt;</th></tr>\n",
       "</thead>\n",
       "<tbody>\n",
       "\t<tr><th scope=row>ENSG00000000003.15</th><td> 356.00</td><td> 542.00</td><td> 364.00</td><td> 299.00</td><td> 502.00</td><td> 416.00</td><td> 424.00</td><td> 497.00</td><td> 323.00</td><td> 387.00</td><td> 465.00</td><td> 366.00</td></tr>\n",
       "\t<tr><th scope=row>ENSG00000000005.6</th><td>   0.00</td><td>   0.00</td><td>   0.00</td><td>   0.00</td><td>   0.00</td><td>   0.00</td><td>   0.00</td><td>   0.00</td><td>   0.00</td><td>   0.00</td><td>   0.00</td><td>   0.00</td></tr>\n",
       "\t<tr><th scope=row>ENSG00000000419.14</th><td>2080.11</td><td>3080.00</td><td>2206.80</td><td>1721.00</td><td>2340.00</td><td>2232.04</td><td>2253.00</td><td>2573.36</td><td>1904.05</td><td>2084.00</td><td>2412.42</td><td>2170.07</td></tr>\n",
       "\t<tr><th scope=row>ENSG00000000457.14</th><td> 113.88</td><td> 119.35</td><td>  85.84</td><td> 102.65</td><td> 153.65</td><td>  94.84</td><td> 112.33</td><td> 130.23</td><td> 119.77</td><td>  98.34</td><td> 120.36</td><td>  91.56</td></tr>\n",
       "\t<tr><th scope=row>ENSG00000000460.17</th><td> 181.12</td><td> 285.65</td><td> 181.16</td><td> 209.35</td><td> 254.35</td><td> 200.16</td><td> 242.67</td><td> 292.77</td><td> 234.23</td><td> 189.66</td><td> 190.64</td><td> 204.44</td></tr>\n",
       "\t<tr><th scope=row>ENSG00000000938.13</th><td>   4.00</td><td>  21.00</td><td>  10.00</td><td>  18.00</td><td>  10.00</td><td>   6.00</td><td>   6.00</td><td>   9.00</td><td>  10.00</td><td>  13.00</td><td>  17.00</td><td>  13.00</td></tr>\n",
       "</tbody>\n",
       "</table>\n"
      ],
      "text/latex": [
       "A data.frame: 6 × 12\n",
       "\\begin{tabular}{r|llllllllllll}\n",
       "  & VK2\\_NanH2\\_PolyB25\\_2h\\_1 & VK2\\_NanH2\\_PolyB25\\_2h\\_2 & VK2\\_NanH2\\_PolyB25\\_2h\\_3 & VK2\\_NanH2\\_PolyB25\\_2h\\_4 & VK2\\_NanH2\\_PolyB25\\_1h\\_5 & VK2\\_NanH2\\_PolyB25\\_1h\\_6 & VK2\\_NanH2\\_PolyB25\\_1h\\_7 & VK2\\_NanH2\\_PolyB25\\_1h\\_8 & VK2\\_Pet28a\\_PolyB25\\_2h\\_9 & VK2\\_Pet28a\\_PolyB25\\_2h\\_10 & VK2\\_Pet28a\\_PolyB25\\_2h\\_11 & VK2\\_Pet28a\\_PolyB25\\_2h\\_12\\\\\n",
       "  & <dbl> & <dbl> & <dbl> & <dbl> & <dbl> & <dbl> & <dbl> & <dbl> & <dbl> & <dbl> & <dbl> & <dbl>\\\\\n",
       "\\hline\n",
       "\tENSG00000000003.15 &  356.00 &  542.00 &  364.00 &  299.00 &  502.00 &  416.00 &  424.00 &  497.00 &  323.00 &  387.00 &  465.00 &  366.00\\\\\n",
       "\tENSG00000000005.6 &    0.00 &    0.00 &    0.00 &    0.00 &    0.00 &    0.00 &    0.00 &    0.00 &    0.00 &    0.00 &    0.00 &    0.00\\\\\n",
       "\tENSG00000000419.14 & 2080.11 & 3080.00 & 2206.80 & 1721.00 & 2340.00 & 2232.04 & 2253.00 & 2573.36 & 1904.05 & 2084.00 & 2412.42 & 2170.07\\\\\n",
       "\tENSG00000000457.14 &  113.88 &  119.35 &   85.84 &  102.65 &  153.65 &   94.84 &  112.33 &  130.23 &  119.77 &   98.34 &  120.36 &   91.56\\\\\n",
       "\tENSG00000000460.17 &  181.12 &  285.65 &  181.16 &  209.35 &  254.35 &  200.16 &  242.67 &  292.77 &  234.23 &  189.66 &  190.64 &  204.44\\\\\n",
       "\tENSG00000000938.13 &    4.00 &   21.00 &   10.00 &   18.00 &   10.00 &    6.00 &    6.00 &    9.00 &   10.00 &   13.00 &   17.00 &   13.00\\\\\n",
       "\\end{tabular}\n"
      ],
      "text/markdown": [
       "\n",
       "A data.frame: 6 × 12\n",
       "\n",
       "| <!--/--> | VK2_NanH2_PolyB25_2h_1 &lt;dbl&gt; | VK2_NanH2_PolyB25_2h_2 &lt;dbl&gt; | VK2_NanH2_PolyB25_2h_3 &lt;dbl&gt; | VK2_NanH2_PolyB25_2h_4 &lt;dbl&gt; | VK2_NanH2_PolyB25_1h_5 &lt;dbl&gt; | VK2_NanH2_PolyB25_1h_6 &lt;dbl&gt; | VK2_NanH2_PolyB25_1h_7 &lt;dbl&gt; | VK2_NanH2_PolyB25_1h_8 &lt;dbl&gt; | VK2_Pet28a_PolyB25_2h_9 &lt;dbl&gt; | VK2_Pet28a_PolyB25_2h_10 &lt;dbl&gt; | VK2_Pet28a_PolyB25_2h_11 &lt;dbl&gt; | VK2_Pet28a_PolyB25_2h_12 &lt;dbl&gt; |\n",
       "|---|---|---|---|---|---|---|---|---|---|---|---|---|\n",
       "| ENSG00000000003.15 |  356.00 |  542.00 |  364.00 |  299.00 |  502.00 |  416.00 |  424.00 |  497.00 |  323.00 |  387.00 |  465.00 |  366.00 |\n",
       "| ENSG00000000005.6 |    0.00 |    0.00 |    0.00 |    0.00 |    0.00 |    0.00 |    0.00 |    0.00 |    0.00 |    0.00 |    0.00 |    0.00 |\n",
       "| ENSG00000000419.14 | 2080.11 | 3080.00 | 2206.80 | 1721.00 | 2340.00 | 2232.04 | 2253.00 | 2573.36 | 1904.05 | 2084.00 | 2412.42 | 2170.07 |\n",
       "| ENSG00000000457.14 |  113.88 |  119.35 |   85.84 |  102.65 |  153.65 |   94.84 |  112.33 |  130.23 |  119.77 |   98.34 |  120.36 |   91.56 |\n",
       "| ENSG00000000460.17 |  181.12 |  285.65 |  181.16 |  209.35 |  254.35 |  200.16 |  242.67 |  292.77 |  234.23 |  189.66 |  190.64 |  204.44 |\n",
       "| ENSG00000000938.13 |    4.00 |   21.00 |   10.00 |   18.00 |   10.00 |    6.00 |    6.00 |    9.00 |   10.00 |   13.00 |   17.00 |   13.00 |\n",
       "\n"
      ],
      "text/plain": [
       "                   VK2_NanH2_PolyB25_2h_1 VK2_NanH2_PolyB25_2h_2\n",
       "ENSG00000000003.15  356.00                 542.00               \n",
       "ENSG00000000005.6     0.00                   0.00               \n",
       "ENSG00000000419.14 2080.11                3080.00               \n",
       "ENSG00000000457.14  113.88                 119.35               \n",
       "ENSG00000000460.17  181.12                 285.65               \n",
       "ENSG00000000938.13    4.00                  21.00               \n",
       "                   VK2_NanH2_PolyB25_2h_3 VK2_NanH2_PolyB25_2h_4\n",
       "ENSG00000000003.15  364.00                 299.00               \n",
       "ENSG00000000005.6     0.00                   0.00               \n",
       "ENSG00000000419.14 2206.80                1721.00               \n",
       "ENSG00000000457.14   85.84                 102.65               \n",
       "ENSG00000000460.17  181.16                 209.35               \n",
       "ENSG00000000938.13   10.00                  18.00               \n",
       "                   VK2_NanH2_PolyB25_1h_5 VK2_NanH2_PolyB25_1h_6\n",
       "ENSG00000000003.15  502.00                 416.00               \n",
       "ENSG00000000005.6     0.00                   0.00               \n",
       "ENSG00000000419.14 2340.00                2232.04               \n",
       "ENSG00000000457.14  153.65                  94.84               \n",
       "ENSG00000000460.17  254.35                 200.16               \n",
       "ENSG00000000938.13   10.00                   6.00               \n",
       "                   VK2_NanH2_PolyB25_1h_7 VK2_NanH2_PolyB25_1h_8\n",
       "ENSG00000000003.15  424.00                 497.00               \n",
       "ENSG00000000005.6     0.00                   0.00               \n",
       "ENSG00000000419.14 2253.00                2573.36               \n",
       "ENSG00000000457.14  112.33                 130.23               \n",
       "ENSG00000000460.17  242.67                 292.77               \n",
       "ENSG00000000938.13    6.00                   9.00               \n",
       "                   VK2_Pet28a_PolyB25_2h_9 VK2_Pet28a_PolyB25_2h_10\n",
       "ENSG00000000003.15  323.00                  387.00                 \n",
       "ENSG00000000005.6     0.00                    0.00                 \n",
       "ENSG00000000419.14 1904.05                 2084.00                 \n",
       "ENSG00000000457.14  119.77                   98.34                 \n",
       "ENSG00000000460.17  234.23                  189.66                 \n",
       "ENSG00000000938.13   10.00                   13.00                 \n",
       "                   VK2_Pet28a_PolyB25_2h_11 VK2_Pet28a_PolyB25_2h_12\n",
       "ENSG00000000003.15  465.00                   366.00                 \n",
       "ENSG00000000005.6     0.00                     0.00                 \n",
       "ENSG00000000419.14 2412.42                  2170.07                 \n",
       "ENSG00000000457.14  120.36                    91.56                 \n",
       "ENSG00000000460.17  190.64                   204.44                 \n",
       "ENSG00000000938.13   17.00                    13.00                 "
      ]
     },
     "metadata": {},
     "output_type": "display_data"
    }
   ],
   "source": [
    "gGeneCountsDf = gUnorderedGeneCountsDf[gSampleNames]\n",
    "head(gGeneCountsDf)"
   ]
  },
  {
   "cell_type": "markdown",
   "metadata": {},
   "source": [
    "If the count file gene identifiers do NOT include version numbers (e.g., the \".4\" part in a gene identifier like \"ENSG00000268020.4\"), then it is necessary to truncate the version information from the public annotation data to be used below in order to match the annotation data gene identifiers to the count file gene identifiers.  Set the flag for version removal accordingly:"
   ]
  },
  {
   "cell_type": "code",
   "execution_count": 63,
   "metadata": {},
   "outputs": [],
   "source": [
    "gRemoveVersion <- FALSE\n"
   ]
  },
  {
   "cell_type": "markdown",
   "metadata": {},
   "source": [
    "[Table of Contents](#Table-of-Contents)\n",
    "\n",
    "###  Annotations\n",
    "\n",
    "If a previously created file of the gene annotations has been provided, load it:"
   ]
  },
  {
   "cell_type": "code",
   "execution_count": 64,
   "metadata": {},
   "outputs": [
    {
     "data": {
      "text/html": [
       "<table class=\"dataframe\">\n",
       "<caption>A data.frame: 6 × 3</caption>\n",
       "<thead>\n",
       "\t<tr><th></th><th scope=col>gene_type</th><th scope=col>gene_id</th><th scope=col>transcript_id</th></tr>\n",
       "\t<tr><th></th><th scope=col>&lt;chr&gt;</th><th scope=col>&lt;chr&gt;</th><th scope=col>&lt;chr&gt;</th></tr>\n",
       "</thead>\n",
       "<tbody>\n",
       "\t<tr><th scope=row>1</th><td>transcribed_unprocessed_pseudogene</td><td>ENSG00000223972.5</td><td>ENST00000456328.2</td></tr>\n",
       "\t<tr><th scope=row>2</th><td>transcribed_unprocessed_pseudogene</td><td>ENSG00000223972.5</td><td>ENST00000450305.2</td></tr>\n",
       "\t<tr><th scope=row>3</th><td>unprocessed_pseudogene            </td><td>ENSG00000227232.5</td><td>ENST00000488147.1</td></tr>\n",
       "\t<tr><th scope=row>4</th><td>miRNA                             </td><td>ENSG00000278267.1</td><td>ENST00000619216.1</td></tr>\n",
       "\t<tr><th scope=row>5</th><td>lncRNA                            </td><td>ENSG00000243485.5</td><td>ENST00000473358.1</td></tr>\n",
       "\t<tr><th scope=row>6</th><td>lncRNA                            </td><td>ENSG00000243485.5</td><td>ENST00000469289.1</td></tr>\n",
       "</tbody>\n",
       "</table>\n"
      ],
      "text/latex": [
       "A data.frame: 6 × 3\n",
       "\\begin{tabular}{r|lll}\n",
       "  & gene\\_type & gene\\_id & transcript\\_id\\\\\n",
       "  & <chr> & <chr> & <chr>\\\\\n",
       "\\hline\n",
       "\t1 & transcribed\\_unprocessed\\_pseudogene & ENSG00000223972.5 & ENST00000456328.2\\\\\n",
       "\t2 & transcribed\\_unprocessed\\_pseudogene & ENSG00000223972.5 & ENST00000450305.2\\\\\n",
       "\t3 & unprocessed\\_pseudogene             & ENSG00000227232.5 & ENST00000488147.1\\\\\n",
       "\t4 & miRNA                              & ENSG00000278267.1 & ENST00000619216.1\\\\\n",
       "\t5 & lncRNA                             & ENSG00000243485.5 & ENST00000473358.1\\\\\n",
       "\t6 & lncRNA                             & ENSG00000243485.5 & ENST00000469289.1\\\\\n",
       "\\end{tabular}\n"
      ],
      "text/markdown": [
       "\n",
       "A data.frame: 6 × 3\n",
       "\n",
       "| <!--/--> | gene_type &lt;chr&gt; | gene_id &lt;chr&gt; | transcript_id &lt;chr&gt; |\n",
       "|---|---|---|---|\n",
       "| 1 | transcribed_unprocessed_pseudogene | ENSG00000223972.5 | ENST00000456328.2 |\n",
       "| 2 | transcribed_unprocessed_pseudogene | ENSG00000223972.5 | ENST00000450305.2 |\n",
       "| 3 | unprocessed_pseudogene             | ENSG00000227232.5 | ENST00000488147.1 |\n",
       "| 4 | miRNA                              | ENSG00000278267.1 | ENST00000619216.1 |\n",
       "| 5 | lncRNA                             | ENSG00000243485.5 | ENST00000473358.1 |\n",
       "| 6 | lncRNA                             | ENSG00000243485.5 | ENST00000469289.1 |\n",
       "\n"
      ],
      "text/plain": [
       "  gene_type                          gene_id           transcript_id    \n",
       "1 transcribed_unprocessed_pseudogene ENSG00000223972.5 ENST00000456328.2\n",
       "2 transcribed_unprocessed_pseudogene ENSG00000223972.5 ENST00000450305.2\n",
       "3 unprocessed_pseudogene             ENSG00000227232.5 ENST00000488147.1\n",
       "4 miRNA                              ENSG00000278267.1 ENST00000619216.1\n",
       "5 lncRNA                             ENSG00000243485.5 ENST00000473358.1\n",
       "6 lncRNA                             ENSG00000243485.5 ENST00000469289.1"
      ]
     },
     "metadata": {},
     "output_type": "display_data"
    }
   ],
   "source": [
    "\n",
    "if (!is.null(gAnnotationsRdataFilename)) {\n",
    "    gAnnotationsRdataFp = file.path(gReferenceDir, gAnnotationsRdataFilename)  \n",
    "    \n",
    "    # Import the R data object containing gene annotations and load its dataframe into a variable:\n",
    "    gAnnotationEnv = loadToEnvironment(gAnnotationsRdataFp)\n",
    "    gGeneTypeAnnotationsDf = gAnnotationEnv$ANNOT\n",
    "    \n",
    "    head(gGeneTypeAnnotationsDf)\n",
    "} else {\n",
    "    print(\"No annotations provided.\")\n",
    "}"
   ]
  },
  {
   "cell_type": "markdown",
   "metadata": {},
   "source": [
    "[Table of Contents](#Table-of-Contents)\n",
    "\n",
    "## Gene Separation By Coding Status"
   ]
  },
  {
   "cell_type": "markdown",
   "metadata": {},
   "source": [
    "Gene annotations are records of each gene's identifier and symbol, where the gene begins and ends on the genome sequence, and whether it is anticipated to be a coding gene or not.  There are multiple sources of gene annotations."
   ]
  },
  {
   "cell_type": "markdown",
   "metadata": {},
   "source": [
    "Here we use the human gene annotations from the Gencode project, Release 43 (GRCh38.p13). \n",
    "\n"
   ]
  },
  {
   "cell_type": "code",
   "execution_count": 65,
   "metadata": {},
   "outputs": [],
   "source": [
    "splitGeneCountsByCodingStatus = function(geneCountDf, gtfDf, removeVersion=FALSE){\n",
    "    #Subset GTF by protein coding and noncoding\n",
    "    ANNOT_protein_coding <- subset(gtfDf, gene_type == \"protein_coding\")\n",
    "#     ANNOT_ncRNA <- subset(gtfDf, gene_type %in% c(\"lincRNA\", \"antisense\", \"processed_transcript\",\"sense_overlapping\", \"sense_intronic\"))\n",
    "    ANNOT_ncRNA <- subset(gtfDf, gene_type %in% c(\"lncRNA\", \"antisense\", \"processed_transcript\",\"sense_overlapping\", \"sense_intronic\"))\n",
    "\n",
    "    #make list of IDs to query\n",
    "    protein_coding_ids <- ANNOT_protein_coding$gene_id\n",
    "    ncRNA_ids <- ANNOT_ncRNA$gene_id\n",
    "    \n",
    "    if (removeVersion){\n",
    "        protein_coding_ids <- removeAccessionVersion(protein_coding_ids)\n",
    "        ncRNA_ids <- removeAccessionVersion(ncRNA_ids)        \n",
    "    }\n",
    "\n",
    "    #subset geneCounts\n",
    "    geneCount_protein_coding <- subset(geneCountDf, row.names(geneCountDf) %in% protein_coding_ids)\n",
    "    geneCount_ncRNA <- subset(geneCountDf, row.names(geneCountDf) %in% ncRNA_ids)\n",
    "    return(list(codingGeneCountDf=geneCount_protein_coding, noncodingGeneCountDf=geneCount_ncRNA))\n",
    "}\n",
    "\n",
    "removeAccessionVersion = function(accessionVector){\n",
    "    return (gsub(\"\\\\..*\",\"\",accessionVector))\n",
    "}\n",
    "\n",
    "writeSubsetCounts = function(subsetCountsDf, outputDir, runName, fileSuffix){\n",
    "    fileName = sprintf(fileSuffix, runName)\n",
    "    write.csv(subsetCountsDf, file.path(outputDir, fileName))\n",
    "    print(paste0(\"Output file: \",fileName))\n",
    "}\n",
    "\n",
    "writeSubsetsCounts = function(splitGeneCountDfsList, outputDir, runName){\n",
    "    writeSubsetCounts(splitGeneCountDfsList$codingGeneCountDf, outputDir, runName,\"%s_raw_pc_genes_counts.csv\")\n",
    "    writeSubsetCounts(splitGeneCountDfsList$noncodingGeneCountDf, outputDir, runName,\"%s_raw_nc_genes_counts.csv\")\n",
    "}"
   ]
  },
  {
   "cell_type": "markdown",
   "metadata": {},
   "source": [
    "Split the count data into coding and non-coding subsets, and extract each subset into a file based on the annotation file provided in the input parameters:"
   ]
  },
  {
   "cell_type": "code",
   "execution_count": 66,
   "metadata": {},
   "outputs": [],
   "source": [
    "gSplitGeneCountDfsList = splitGeneCountsByCodingStatus(gGeneCountsDf, gGeneTypeAnnotationsDf, gRemoveVersion)"
   ]
  },
  {
   "cell_type": "code",
   "execution_count": 67,
   "metadata": {},
   "outputs": [
    {
     "data": {
      "text/html": [
       "<style>\n",
       ".list-inline {list-style: none; margin:0; padding: 0}\n",
       ".list-inline>li {display: inline-block}\n",
       ".list-inline>li:not(:last-child)::after {content: \"\\00b7\"; padding: 0 .5ex}\n",
       "</style>\n",
       "<ol class=list-inline><li>60605</li><li>12</li></ol>\n"
      ],
      "text/latex": [
       "\\begin{enumerate*}\n",
       "\\item 60605\n",
       "\\item 12\n",
       "\\end{enumerate*}\n"
      ],
      "text/markdown": [
       "1. 60605\n",
       "2. 12\n",
       "\n",
       "\n"
      ],
      "text/plain": [
       "[1] 60605    12"
      ]
     },
     "metadata": {},
     "output_type": "display_data"
    },
    {
     "data": {
      "text/html": [
       "<style>\n",
       ".list-inline {list-style: none; margin:0; padding: 0}\n",
       ".list-inline>li {display: inline-block}\n",
       ".list-inline>li:not(:last-child)::after {content: \"\\00b7\"; padding: 0 .5ex}\n",
       "</style>\n",
       "<ol class=list-inline><li>19937</li><li>12</li></ol>\n"
      ],
      "text/latex": [
       "\\begin{enumerate*}\n",
       "\\item 19937\n",
       "\\item 12\n",
       "\\end{enumerate*}\n"
      ],
      "text/markdown": [
       "1. 19937\n",
       "2. 12\n",
       "\n",
       "\n"
      ],
      "text/plain": [
       "[1] 19937    12"
      ]
     },
     "metadata": {},
     "output_type": "display_data"
    },
    {
     "data": {
      "text/html": [
       "<style>\n",
       ".list-inline {list-style: none; margin:0; padding: 0}\n",
       ".list-inline>li {display: inline-block}\n",
       ".list-inline>li:not(:last-child)::after {content: \"\\00b7\"; padding: 0 .5ex}\n",
       "</style>\n",
       "<ol class=list-inline><li>16876</li><li>12</li></ol>\n"
      ],
      "text/latex": [
       "\\begin{enumerate*}\n",
       "\\item 16876\n",
       "\\item 12\n",
       "\\end{enumerate*}\n"
      ],
      "text/markdown": [
       "1. 16876\n",
       "2. 12\n",
       "\n",
       "\n"
      ],
      "text/plain": [
       "[1] 16876    12"
      ]
     },
     "metadata": {},
     "output_type": "display_data"
    }
   ],
   "source": [
    "dim(gGeneCountsDf)\n",
    "dim(gSplitGeneCountDfsList$codingGeneCountDf)\n",
    "dim(gSplitGeneCountDfsList$noncodingGeneCountDf)"
   ]
  },
  {
   "cell_type": "markdown",
   "metadata": {},
   "source": [
    " Of the original 60,605 Ensembl genes in the dataset, 19,937 are known coding genes.  "
   ]
  },
  {
   "cell_type": "code",
   "execution_count": 68,
   "metadata": {},
   "outputs": [
    {
     "name": "stdout",
     "output_type": "stream",
     "text": [
      "[1] \"Output file: 20230302161642_raw_pc_genes_counts.csv\"\n",
      "[1] \"Output file: 20230302161642_raw_nc_genes_counts.csv\"\n"
     ]
    }
   ],
   "source": [
    "writeSubsetsCounts(gSplitGeneCountDfsList, gOutputDir_nb1, gRunName)"
   ]
  },
  {
   "cell_type": "markdown",
   "metadata": {},
   "source": [
    "[Table of Contents](#Table-of-Contents)\n",
    "\n",
    "## Data Integration\n",
    "\n",
    "\n",
    "\n",
    "Integrate the count data and the metadata into an edgeR DGEList object for use in downstream analysis:\n",
    "\n",
    "> Our DGEList-object contains a samples data frame that stores both ... group ... and batch ... information, each of which consists of ... distinct levels. Note that within x$samples, library sizes are automatically calculated for each sample and normalisation factors are set to 1. ([1](#Citations))"
   ]
  },
  {
   "cell_type": "code",
   "execution_count": 69,
   "metadata": {},
   "outputs": [],
   "source": [
    "gGeneType = \"all\"\n",
    "gRelevantGeneCountsDf <- gGeneCountsDf"
   ]
  },
  {
   "cell_type": "code",
   "execution_count": 70,
   "metadata": {},
   "outputs": [],
   "source": [
    "# create a DGEList object\n",
    "makeDgeList = function(countsDf, metadataDf, groupColName){\n",
    "    # remove the accession version (.##etc) from the ensembl gene id\n",
    "    id_list <- gsub(\"[.].*$\",\"\", row.names(countsDf))\n",
    "    row.names(countsDf) <- id_list\n",
    "\n",
    "    x <- DGEList(counts = countsDf, lib.size = colSums(countsDf),\n",
    "    norm.factors = rep(1,ncol(countsDf)), samples = metadataDf,\n",
    "        group = metadataDf[[groupColName]], genes = NULL, remove.zeros = FALSE)\n",
    "    return(x)\n",
    "}"
   ]
  },
  {
   "cell_type": "code",
   "execution_count": 71,
   "metadata": {},
   "outputs": [],
   "source": [
    "gGroupCategory = \"Condition_Time\" # e.g., \"day\""
   ]
  },
  {
   "cell_type": "code",
   "execution_count": 72,
   "metadata": {},
   "outputs": [
    {
     "data": {
      "text/html": [
       "<style>\n",
       ".list-inline {list-style: none; margin:0; padding: 0}\n",
       ".list-inline>li {display: inline-block}\n",
       ".list-inline>li:not(:last-child)::after {content: \"\\00b7\"; padding: 0 .5ex}\n",
       "</style>\n",
       "<ol class=list-inline><li>'counts'</li><li>'samples'</li></ol>\n"
      ],
      "text/latex": [
       "\\begin{enumerate*}\n",
       "\\item 'counts'\n",
       "\\item 'samples'\n",
       "\\end{enumerate*}\n"
      ],
      "text/markdown": [
       "1. 'counts'\n",
       "2. 'samples'\n",
       "\n",
       "\n"
      ],
      "text/plain": [
       "[1] \"counts\"  \"samples\""
      ]
     },
     "metadata": {},
     "output_type": "display_data"
    }
   ],
   "source": [
    "gDgeList = makeDgeList(gRelevantGeneCountsDf, gMetadataDf, gGroupCategory)\n",
    "names(gDgeList)"
   ]
  },
  {
   "cell_type": "markdown",
   "metadata": {},
   "source": [
    "As a sanity-check, look at representative content from the DGEList:"
   ]
  },
  {
   "cell_type": "code",
   "execution_count": 73,
   "metadata": {},
   "outputs": [
    {
     "data": {
      "text/html": [
       "<table class=\"dataframe\">\n",
       "<caption>A matrix: 6 × 12 of type dbl</caption>\n",
       "<thead>\n",
       "\t<tr><th></th><th scope=col>VK2_NanH2_PolyB25_2h_1</th><th scope=col>VK2_NanH2_PolyB25_2h_2</th><th scope=col>VK2_NanH2_PolyB25_2h_3</th><th scope=col>VK2_NanH2_PolyB25_2h_4</th><th scope=col>VK2_NanH2_PolyB25_1h_5</th><th scope=col>VK2_NanH2_PolyB25_1h_6</th><th scope=col>VK2_NanH2_PolyB25_1h_7</th><th scope=col>VK2_NanH2_PolyB25_1h_8</th><th scope=col>VK2_Pet28a_PolyB25_2h_9</th><th scope=col>VK2_Pet28a_PolyB25_2h_10</th><th scope=col>VK2_Pet28a_PolyB25_2h_11</th><th scope=col>VK2_Pet28a_PolyB25_2h_12</th></tr>\n",
       "</thead>\n",
       "<tbody>\n",
       "\t<tr><th scope=row>ENSG00000000003</th><td> 356.00</td><td> 542.00</td><td> 364.00</td><td> 299.00</td><td> 502.00</td><td> 416.00</td><td> 424.00</td><td> 497.00</td><td> 323.00</td><td> 387.00</td><td> 465.00</td><td> 366.00</td></tr>\n",
       "\t<tr><th scope=row>ENSG00000000005</th><td>   0.00</td><td>   0.00</td><td>   0.00</td><td>   0.00</td><td>   0.00</td><td>   0.00</td><td>   0.00</td><td>   0.00</td><td>   0.00</td><td>   0.00</td><td>   0.00</td><td>   0.00</td></tr>\n",
       "\t<tr><th scope=row>ENSG00000000419</th><td>2080.11</td><td>3080.00</td><td>2206.80</td><td>1721.00</td><td>2340.00</td><td>2232.04</td><td>2253.00</td><td>2573.36</td><td>1904.05</td><td>2084.00</td><td>2412.42</td><td>2170.07</td></tr>\n",
       "\t<tr><th scope=row>ENSG00000000457</th><td> 113.88</td><td> 119.35</td><td>  85.84</td><td> 102.65</td><td> 153.65</td><td>  94.84</td><td> 112.33</td><td> 130.23</td><td> 119.77</td><td>  98.34</td><td> 120.36</td><td>  91.56</td></tr>\n",
       "\t<tr><th scope=row>ENSG00000000460</th><td> 181.12</td><td> 285.65</td><td> 181.16</td><td> 209.35</td><td> 254.35</td><td> 200.16</td><td> 242.67</td><td> 292.77</td><td> 234.23</td><td> 189.66</td><td> 190.64</td><td> 204.44</td></tr>\n",
       "\t<tr><th scope=row>ENSG00000000938</th><td>   4.00</td><td>  21.00</td><td>  10.00</td><td>  18.00</td><td>  10.00</td><td>   6.00</td><td>   6.00</td><td>   9.00</td><td>  10.00</td><td>  13.00</td><td>  17.00</td><td>  13.00</td></tr>\n",
       "</tbody>\n",
       "</table>\n"
      ],
      "text/latex": [
       "A matrix: 6 × 12 of type dbl\n",
       "\\begin{tabular}{r|llllllllllll}\n",
       "  & VK2\\_NanH2\\_PolyB25\\_2h\\_1 & VK2\\_NanH2\\_PolyB25\\_2h\\_2 & VK2\\_NanH2\\_PolyB25\\_2h\\_3 & VK2\\_NanH2\\_PolyB25\\_2h\\_4 & VK2\\_NanH2\\_PolyB25\\_1h\\_5 & VK2\\_NanH2\\_PolyB25\\_1h\\_6 & VK2\\_NanH2\\_PolyB25\\_1h\\_7 & VK2\\_NanH2\\_PolyB25\\_1h\\_8 & VK2\\_Pet28a\\_PolyB25\\_2h\\_9 & VK2\\_Pet28a\\_PolyB25\\_2h\\_10 & VK2\\_Pet28a\\_PolyB25\\_2h\\_11 & VK2\\_Pet28a\\_PolyB25\\_2h\\_12\\\\\n",
       "\\hline\n",
       "\tENSG00000000003 &  356.00 &  542.00 &  364.00 &  299.00 &  502.00 &  416.00 &  424.00 &  497.00 &  323.00 &  387.00 &  465.00 &  366.00\\\\\n",
       "\tENSG00000000005 &    0.00 &    0.00 &    0.00 &    0.00 &    0.00 &    0.00 &    0.00 &    0.00 &    0.00 &    0.00 &    0.00 &    0.00\\\\\n",
       "\tENSG00000000419 & 2080.11 & 3080.00 & 2206.80 & 1721.00 & 2340.00 & 2232.04 & 2253.00 & 2573.36 & 1904.05 & 2084.00 & 2412.42 & 2170.07\\\\\n",
       "\tENSG00000000457 &  113.88 &  119.35 &   85.84 &  102.65 &  153.65 &   94.84 &  112.33 &  130.23 &  119.77 &   98.34 &  120.36 &   91.56\\\\\n",
       "\tENSG00000000460 &  181.12 &  285.65 &  181.16 &  209.35 &  254.35 &  200.16 &  242.67 &  292.77 &  234.23 &  189.66 &  190.64 &  204.44\\\\\n",
       "\tENSG00000000938 &    4.00 &   21.00 &   10.00 &   18.00 &   10.00 &    6.00 &    6.00 &    9.00 &   10.00 &   13.00 &   17.00 &   13.00\\\\\n",
       "\\end{tabular}\n"
      ],
      "text/markdown": [
       "\n",
       "A matrix: 6 × 12 of type dbl\n",
       "\n",
       "| <!--/--> | VK2_NanH2_PolyB25_2h_1 | VK2_NanH2_PolyB25_2h_2 | VK2_NanH2_PolyB25_2h_3 | VK2_NanH2_PolyB25_2h_4 | VK2_NanH2_PolyB25_1h_5 | VK2_NanH2_PolyB25_1h_6 | VK2_NanH2_PolyB25_1h_7 | VK2_NanH2_PolyB25_1h_8 | VK2_Pet28a_PolyB25_2h_9 | VK2_Pet28a_PolyB25_2h_10 | VK2_Pet28a_PolyB25_2h_11 | VK2_Pet28a_PolyB25_2h_12 |\n",
       "|---|---|---|---|---|---|---|---|---|---|---|---|---|\n",
       "| ENSG00000000003 |  356.00 |  542.00 |  364.00 |  299.00 |  502.00 |  416.00 |  424.00 |  497.00 |  323.00 |  387.00 |  465.00 |  366.00 |\n",
       "| ENSG00000000005 |    0.00 |    0.00 |    0.00 |    0.00 |    0.00 |    0.00 |    0.00 |    0.00 |    0.00 |    0.00 |    0.00 |    0.00 |\n",
       "| ENSG00000000419 | 2080.11 | 3080.00 | 2206.80 | 1721.00 | 2340.00 | 2232.04 | 2253.00 | 2573.36 | 1904.05 | 2084.00 | 2412.42 | 2170.07 |\n",
       "| ENSG00000000457 |  113.88 |  119.35 |   85.84 |  102.65 |  153.65 |   94.84 |  112.33 |  130.23 |  119.77 |   98.34 |  120.36 |   91.56 |\n",
       "| ENSG00000000460 |  181.12 |  285.65 |  181.16 |  209.35 |  254.35 |  200.16 |  242.67 |  292.77 |  234.23 |  189.66 |  190.64 |  204.44 |\n",
       "| ENSG00000000938 |    4.00 |   21.00 |   10.00 |   18.00 |   10.00 |    6.00 |    6.00 |    9.00 |   10.00 |   13.00 |   17.00 |   13.00 |\n",
       "\n"
      ],
      "text/plain": [
       "                VK2_NanH2_PolyB25_2h_1 VK2_NanH2_PolyB25_2h_2\n",
       "ENSG00000000003  356.00                 542.00               \n",
       "ENSG00000000005    0.00                   0.00               \n",
       "ENSG00000000419 2080.11                3080.00               \n",
       "ENSG00000000457  113.88                 119.35               \n",
       "ENSG00000000460  181.12                 285.65               \n",
       "ENSG00000000938    4.00                  21.00               \n",
       "                VK2_NanH2_PolyB25_2h_3 VK2_NanH2_PolyB25_2h_4\n",
       "ENSG00000000003  364.00                 299.00               \n",
       "ENSG00000000005    0.00                   0.00               \n",
       "ENSG00000000419 2206.80                1721.00               \n",
       "ENSG00000000457   85.84                 102.65               \n",
       "ENSG00000000460  181.16                 209.35               \n",
       "ENSG00000000938   10.00                  18.00               \n",
       "                VK2_NanH2_PolyB25_1h_5 VK2_NanH2_PolyB25_1h_6\n",
       "ENSG00000000003  502.00                 416.00               \n",
       "ENSG00000000005    0.00                   0.00               \n",
       "ENSG00000000419 2340.00                2232.04               \n",
       "ENSG00000000457  153.65                  94.84               \n",
       "ENSG00000000460  254.35                 200.16               \n",
       "ENSG00000000938   10.00                   6.00               \n",
       "                VK2_NanH2_PolyB25_1h_7 VK2_NanH2_PolyB25_1h_8\n",
       "ENSG00000000003  424.00                 497.00               \n",
       "ENSG00000000005    0.00                   0.00               \n",
       "ENSG00000000419 2253.00                2573.36               \n",
       "ENSG00000000457  112.33                 130.23               \n",
       "ENSG00000000460  242.67                 292.77               \n",
       "ENSG00000000938    6.00                   9.00               \n",
       "                VK2_Pet28a_PolyB25_2h_9 VK2_Pet28a_PolyB25_2h_10\n",
       "ENSG00000000003  323.00                  387.00                 \n",
       "ENSG00000000005    0.00                    0.00                 \n",
       "ENSG00000000419 1904.05                 2084.00                 \n",
       "ENSG00000000457  119.77                   98.34                 \n",
       "ENSG00000000460  234.23                  189.66                 \n",
       "ENSG00000000938   10.00                   13.00                 \n",
       "                VK2_Pet28a_PolyB25_2h_11 VK2_Pet28a_PolyB25_2h_12\n",
       "ENSG00000000003  465.00                   366.00                 \n",
       "ENSG00000000005    0.00                     0.00                 \n",
       "ENSG00000000419 2412.42                  2170.07                 \n",
       "ENSG00000000457  120.36                    91.56                 \n",
       "ENSG00000000460  190.64                   204.44                 \n",
       "ENSG00000000938   17.00                    13.00                 "
      ]
     },
     "metadata": {},
     "output_type": "display_data"
    },
    {
     "data": {
      "text/html": [
       "<table class=\"dataframe\">\n",
       "<caption>A data.frame: 6 × 10</caption>\n",
       "<thead>\n",
       "\t<tr><th></th><th scope=col>group</th><th scope=col>lib.size</th><th scope=col>norm.factors</th><th scope=col>Sample.Name</th><th scope=col>Sample.Code</th><th scope=col>Reference.Genome..Organism.</th><th scope=col>Gender</th><th scope=col>Condition</th><th scope=col>Time.point</th><th scope=col>Condition_Time</th></tr>\n",
       "\t<tr><th></th><th scope=col>&lt;fct&gt;</th><th scope=col>&lt;dbl&gt;</th><th scope=col>&lt;dbl&gt;</th><th scope=col>&lt;chr&gt;</th><th scope=col>&lt;chr&gt;</th><th scope=col>&lt;chr&gt;</th><th scope=col>&lt;chr&gt;</th><th scope=col>&lt;chr&gt;</th><th scope=col>&lt;chr&gt;</th><th scope=col>&lt;chr&gt;</th></tr>\n",
       "</thead>\n",
       "<tbody>\n",
       "\t<tr><th scope=row>VK2_NanH2_PolyB25_2h_1</th><td>NanH2_treated_2H</td><td>22490889</td><td>1</td><td>VK2_NanH2_PolyB25_2h_1</td><td>K001</td><td>Human</td><td>Female</td><td>NanH2_treated</td><td>2H</td><td>NanH2_treated_2H</td></tr>\n",
       "\t<tr><th scope=row>VK2_NanH2_PolyB25_2h_2</th><td>NanH2_treated_2H</td><td>31232480</td><td>1</td><td>VK2_NanH2_PolyB25_2h_2</td><td>K002</td><td>Human</td><td>Female</td><td>NanH2_treated</td><td>2H</td><td>NanH2_treated_2H</td></tr>\n",
       "\t<tr><th scope=row>VK2_NanH2_PolyB25_2h_3</th><td>NanH2_treated_2H</td><td>21901342</td><td>1</td><td>VK2_NanH2_PolyB25_2h_3</td><td>K003</td><td>Human</td><td>Female</td><td>NanH2_treated</td><td>2H</td><td>NanH2_treated_2H</td></tr>\n",
       "\t<tr><th scope=row>VK2_NanH2_PolyB25_2h_4</th><td>NanH2_treated_2H</td><td>19637114</td><td>1</td><td>VK2_NanH2_PolyB25_2h_4</td><td>K004</td><td>Human</td><td>Female</td><td>NanH2_treated</td><td>2H</td><td>NanH2_treated_2H</td></tr>\n",
       "\t<tr><th scope=row>VK2_NanH2_PolyB25_1h_5</th><td>NanH2_treated_1H</td><td>27468016</td><td>1</td><td>VK2_NanH2_PolyB25_1h_5</td><td>K005</td><td>Human</td><td>Female</td><td>NanH2_treated</td><td>1H</td><td>NanH2_treated_1H</td></tr>\n",
       "\t<tr><th scope=row>VK2_NanH2_PolyB25_1h_6</th><td>NanH2_treated_1H</td><td>24935803</td><td>1</td><td>VK2_NanH2_PolyB25_1h_6</td><td>K006</td><td>Human</td><td>Female</td><td>NanH2_treated</td><td>1H</td><td>NanH2_treated_1H</td></tr>\n",
       "</tbody>\n",
       "</table>\n"
      ],
      "text/latex": [
       "A data.frame: 6 × 10\n",
       "\\begin{tabular}{r|llllllllll}\n",
       "  & group & lib.size & norm.factors & Sample.Name & Sample.Code & Reference.Genome..Organism. & Gender & Condition & Time.point & Condition\\_Time\\\\\n",
       "  & <fct> & <dbl> & <dbl> & <chr> & <chr> & <chr> & <chr> & <chr> & <chr> & <chr>\\\\\n",
       "\\hline\n",
       "\tVK2\\_NanH2\\_PolyB25\\_2h\\_1 & NanH2\\_treated\\_2H & 22490889 & 1 & VK2\\_NanH2\\_PolyB25\\_2h\\_1 & K001 & Human & Female & NanH2\\_treated & 2H & NanH2\\_treated\\_2H\\\\\n",
       "\tVK2\\_NanH2\\_PolyB25\\_2h\\_2 & NanH2\\_treated\\_2H & 31232480 & 1 & VK2\\_NanH2\\_PolyB25\\_2h\\_2 & K002 & Human & Female & NanH2\\_treated & 2H & NanH2\\_treated\\_2H\\\\\n",
       "\tVK2\\_NanH2\\_PolyB25\\_2h\\_3 & NanH2\\_treated\\_2H & 21901342 & 1 & VK2\\_NanH2\\_PolyB25\\_2h\\_3 & K003 & Human & Female & NanH2\\_treated & 2H & NanH2\\_treated\\_2H\\\\\n",
       "\tVK2\\_NanH2\\_PolyB25\\_2h\\_4 & NanH2\\_treated\\_2H & 19637114 & 1 & VK2\\_NanH2\\_PolyB25\\_2h\\_4 & K004 & Human & Female & NanH2\\_treated & 2H & NanH2\\_treated\\_2H\\\\\n",
       "\tVK2\\_NanH2\\_PolyB25\\_1h\\_5 & NanH2\\_treated\\_1H & 27468016 & 1 & VK2\\_NanH2\\_PolyB25\\_1h\\_5 & K005 & Human & Female & NanH2\\_treated & 1H & NanH2\\_treated\\_1H\\\\\n",
       "\tVK2\\_NanH2\\_PolyB25\\_1h\\_6 & NanH2\\_treated\\_1H & 24935803 & 1 & VK2\\_NanH2\\_PolyB25\\_1h\\_6 & K006 & Human & Female & NanH2\\_treated & 1H & NanH2\\_treated\\_1H\\\\\n",
       "\\end{tabular}\n"
      ],
      "text/markdown": [
       "\n",
       "A data.frame: 6 × 10\n",
       "\n",
       "| <!--/--> | group &lt;fct&gt; | lib.size &lt;dbl&gt; | norm.factors &lt;dbl&gt; | Sample.Name &lt;chr&gt; | Sample.Code &lt;chr&gt; | Reference.Genome..Organism. &lt;chr&gt; | Gender &lt;chr&gt; | Condition &lt;chr&gt; | Time.point &lt;chr&gt; | Condition_Time &lt;chr&gt; |\n",
       "|---|---|---|---|---|---|---|---|---|---|---|\n",
       "| VK2_NanH2_PolyB25_2h_1 | NanH2_treated_2H | 22490889 | 1 | VK2_NanH2_PolyB25_2h_1 | K001 | Human | Female | NanH2_treated | 2H | NanH2_treated_2H |\n",
       "| VK2_NanH2_PolyB25_2h_2 | NanH2_treated_2H | 31232480 | 1 | VK2_NanH2_PolyB25_2h_2 | K002 | Human | Female | NanH2_treated | 2H | NanH2_treated_2H |\n",
       "| VK2_NanH2_PolyB25_2h_3 | NanH2_treated_2H | 21901342 | 1 | VK2_NanH2_PolyB25_2h_3 | K003 | Human | Female | NanH2_treated | 2H | NanH2_treated_2H |\n",
       "| VK2_NanH2_PolyB25_2h_4 | NanH2_treated_2H | 19637114 | 1 | VK2_NanH2_PolyB25_2h_4 | K004 | Human | Female | NanH2_treated | 2H | NanH2_treated_2H |\n",
       "| VK2_NanH2_PolyB25_1h_5 | NanH2_treated_1H | 27468016 | 1 | VK2_NanH2_PolyB25_1h_5 | K005 | Human | Female | NanH2_treated | 1H | NanH2_treated_1H |\n",
       "| VK2_NanH2_PolyB25_1h_6 | NanH2_treated_1H | 24935803 | 1 | VK2_NanH2_PolyB25_1h_6 | K006 | Human | Female | NanH2_treated | 1H | NanH2_treated_1H |\n",
       "\n"
      ],
      "text/plain": [
       "                       group            lib.size norm.factors\n",
       "VK2_NanH2_PolyB25_2h_1 NanH2_treated_2H 22490889 1           \n",
       "VK2_NanH2_PolyB25_2h_2 NanH2_treated_2H 31232480 1           \n",
       "VK2_NanH2_PolyB25_2h_3 NanH2_treated_2H 21901342 1           \n",
       "VK2_NanH2_PolyB25_2h_4 NanH2_treated_2H 19637114 1           \n",
       "VK2_NanH2_PolyB25_1h_5 NanH2_treated_1H 27468016 1           \n",
       "VK2_NanH2_PolyB25_1h_6 NanH2_treated_1H 24935803 1           \n",
       "                       Sample.Name            Sample.Code\n",
       "VK2_NanH2_PolyB25_2h_1 VK2_NanH2_PolyB25_2h_1 K001       \n",
       "VK2_NanH2_PolyB25_2h_2 VK2_NanH2_PolyB25_2h_2 K002       \n",
       "VK2_NanH2_PolyB25_2h_3 VK2_NanH2_PolyB25_2h_3 K003       \n",
       "VK2_NanH2_PolyB25_2h_4 VK2_NanH2_PolyB25_2h_4 K004       \n",
       "VK2_NanH2_PolyB25_1h_5 VK2_NanH2_PolyB25_1h_5 K005       \n",
       "VK2_NanH2_PolyB25_1h_6 VK2_NanH2_PolyB25_1h_6 K006       \n",
       "                       Reference.Genome..Organism. Gender Condition    \n",
       "VK2_NanH2_PolyB25_2h_1 Human                       Female NanH2_treated\n",
       "VK2_NanH2_PolyB25_2h_2 Human                       Female NanH2_treated\n",
       "VK2_NanH2_PolyB25_2h_3 Human                       Female NanH2_treated\n",
       "VK2_NanH2_PolyB25_2h_4 Human                       Female NanH2_treated\n",
       "VK2_NanH2_PolyB25_1h_5 Human                       Female NanH2_treated\n",
       "VK2_NanH2_PolyB25_1h_6 Human                       Female NanH2_treated\n",
       "                       Time.point Condition_Time  \n",
       "VK2_NanH2_PolyB25_2h_1 2H         NanH2_treated_2H\n",
       "VK2_NanH2_PolyB25_2h_2 2H         NanH2_treated_2H\n",
       "VK2_NanH2_PolyB25_2h_3 2H         NanH2_treated_2H\n",
       "VK2_NanH2_PolyB25_2h_4 2H         NanH2_treated_2H\n",
       "VK2_NanH2_PolyB25_1h_5 1H         NanH2_treated_1H\n",
       "VK2_NanH2_PolyB25_1h_6 1H         NanH2_treated_1H"
      ]
     },
     "metadata": {},
     "output_type": "display_data"
    }
   ],
   "source": [
    "head(gDgeList$counts)\n",
    "head(gDgeList$samples)"
   ]
  },
  {
   "cell_type": "markdown",
   "metadata": {},
   "source": [
    "[Table of Contents](#Table-of-Contents)\n",
    "\n",
    "## Annotation Integration"
   ]
  },
  {
   "cell_type": "markdown",
   "metadata": {},
   "source": [
    "Next, extend the DGEList object with annotation information about the genes that have count data with symbol and EntrezId information, based upon their Ensembl ids.\n",
    "\n",
    "> A second data frame named genes in the DGEList-object is used to store gene-level information associated with rows of the counts matrix. This information can be retrieved using organism specific packages such as Mus.musculus (Bioconductor Core Team 2016b) for mouse (or Homo.sapiens (Bioconductor Core Team 2016a) for human) ....\n",
    ">\n",
    "> The type of information that can be retrieved includes gene symbols, gene names, chromosome names and locations, Entrez gene IDs, Refseq gene IDs and Ensembl gene IDs to name just a few. .... Mus.musculus [and other organism-specific packages] packages information from various sources and allows users to choose between many different gene IDs as the key. ([1](#Citations))"
   ]
  },
  {
   "cell_type": "code",
   "execution_count": 74,
   "metadata": {},
   "outputs": [],
   "source": [
    "getGeneDf = function(dgeList, organismPackage){\n",
    "    geneid <-  rownames(dgeList)\n",
    "    genes <- select(organismPackage, keys=geneid, columns=c(\"SYMBOL\", \"ENSEMBL\", \"ENTREZID\"), \n",
    "                    keytype=\"ENSEMBL\")\n",
    "    return(genes)\n",
    "}"
   ]
  },
  {
   "cell_type": "code",
   "execution_count": 75,
   "metadata": {},
   "outputs": [
    {
     "name": "stderr",
     "output_type": "stream",
     "text": [
      "'select()' returned 1:many mapping between keys and columns\n",
      "\n"
     ]
    },
    {
     "data": {
      "text/html": [
       "<style>\n",
       ".list-inline {list-style: none; margin:0; padding: 0}\n",
       ".list-inline>li {display: inline-block}\n",
       ".list-inline>li:not(:last-child)::after {content: \"\\00b7\"; padding: 0 .5ex}\n",
       "</style>\n",
       "<ol class=list-inline><li>60846</li><li>3</li></ol>\n"
      ],
      "text/latex": [
       "\\begin{enumerate*}\n",
       "\\item 60846\n",
       "\\item 3\n",
       "\\end{enumerate*}\n"
      ],
      "text/markdown": [
       "1. 60846\n",
       "2. 3\n",
       "\n",
       "\n"
      ],
      "text/plain": [
       "[1] 60846     3"
      ]
     },
     "metadata": {},
     "output_type": "display_data"
    }
   ],
   "source": [
    "gRawGenesDf = getGeneDf(gDgeList, gOrganismPackage)\n",
    "dim(gRawGenesDf)"
   ]
  },
  {
   "cell_type": "code",
   "execution_count": 76,
   "metadata": {},
   "outputs": [],
   "source": [
    "# Add gene type to gRawGenesDf\n",
    "gGeneTypeAnnotationsDf.rmdec <- gGeneTypeAnnotationsDf\n",
    "gGeneTypeAnnotationsDf.rmdec$gene_id <- gsub(\"\\\\..*\",\"\",gGeneTypeAnnotationsDf.rmdec$gene_id)\n",
    "gRawGenesDf$gene_type <- gGeneTypeAnnotationsDf$gene_type[match(gRawGenesDf$ENSEMBL, gGeneTypeAnnotationsDf.rmdec$gene_id)]"
   ]
  },
  {
   "cell_type": "code",
   "execution_count": 77,
   "metadata": {},
   "outputs": [
    {
     "data": {
      "text/html": [
       "<table class=\"dataframe\">\n",
       "<caption>A data.frame: 6 × 4</caption>\n",
       "<thead>\n",
       "\t<tr><th></th><th scope=col>ENSEMBL</th><th scope=col>ENTREZID</th><th scope=col>SYMBOL</th><th scope=col>gene_type</th></tr>\n",
       "\t<tr><th></th><th scope=col>&lt;chr&gt;</th><th scope=col>&lt;chr&gt;</th><th scope=col>&lt;chr&gt;</th><th scope=col>&lt;chr&gt;</th></tr>\n",
       "</thead>\n",
       "<tbody>\n",
       "\t<tr><th scope=row>1</th><td>ENSG00000000003</td><td>7105 </td><td>TSPAN6  </td><td>protein_coding</td></tr>\n",
       "\t<tr><th scope=row>2</th><td>ENSG00000000005</td><td>64102</td><td>TNMD    </td><td>protein_coding</td></tr>\n",
       "\t<tr><th scope=row>3</th><td>ENSG00000000419</td><td>8813 </td><td>DPM1    </td><td>protein_coding</td></tr>\n",
       "\t<tr><th scope=row>4</th><td>ENSG00000000457</td><td>57147</td><td>SCYL3   </td><td>protein_coding</td></tr>\n",
       "\t<tr><th scope=row>5</th><td>ENSG00000000460</td><td>55732</td><td>C1orf112</td><td>protein_coding</td></tr>\n",
       "\t<tr><th scope=row>6</th><td>ENSG00000000938</td><td>2268 </td><td>FGR     </td><td>protein_coding</td></tr>\n",
       "</tbody>\n",
       "</table>\n"
      ],
      "text/latex": [
       "A data.frame: 6 × 4\n",
       "\\begin{tabular}{r|llll}\n",
       "  & ENSEMBL & ENTREZID & SYMBOL & gene\\_type\\\\\n",
       "  & <chr> & <chr> & <chr> & <chr>\\\\\n",
       "\\hline\n",
       "\t1 & ENSG00000000003 & 7105  & TSPAN6   & protein\\_coding\\\\\n",
       "\t2 & ENSG00000000005 & 64102 & TNMD     & protein\\_coding\\\\\n",
       "\t3 & ENSG00000000419 & 8813  & DPM1     & protein\\_coding\\\\\n",
       "\t4 & ENSG00000000457 & 57147 & SCYL3    & protein\\_coding\\\\\n",
       "\t5 & ENSG00000000460 & 55732 & C1orf112 & protein\\_coding\\\\\n",
       "\t6 & ENSG00000000938 & 2268  & FGR      & protein\\_coding\\\\\n",
       "\\end{tabular}\n"
      ],
      "text/markdown": [
       "\n",
       "A data.frame: 6 × 4\n",
       "\n",
       "| <!--/--> | ENSEMBL &lt;chr&gt; | ENTREZID &lt;chr&gt; | SYMBOL &lt;chr&gt; | gene_type &lt;chr&gt; |\n",
       "|---|---|---|---|---|\n",
       "| 1 | ENSG00000000003 | 7105  | TSPAN6   | protein_coding |\n",
       "| 2 | ENSG00000000005 | 64102 | TNMD     | protein_coding |\n",
       "| 3 | ENSG00000000419 | 8813  | DPM1     | protein_coding |\n",
       "| 4 | ENSG00000000457 | 57147 | SCYL3    | protein_coding |\n",
       "| 5 | ENSG00000000460 | 55732 | C1orf112 | protein_coding |\n",
       "| 6 | ENSG00000000938 | 2268  | FGR      | protein_coding |\n",
       "\n"
      ],
      "text/plain": [
       "  ENSEMBL         ENTREZID SYMBOL   gene_type     \n",
       "1 ENSG00000000003 7105     TSPAN6   protein_coding\n",
       "2 ENSG00000000005 64102    TNMD     protein_coding\n",
       "3 ENSG00000000419 8813     DPM1     protein_coding\n",
       "4 ENSG00000000457 57147    SCYL3    protein_coding\n",
       "5 ENSG00000000460 55732    C1orf112 protein_coding\n",
       "6 ENSG00000000938 2268     FGR      protein_coding"
      ]
     },
     "metadata": {},
     "output_type": "display_data"
    }
   ],
   "source": [
    "head(gRawGenesDf)"
   ]
  },
  {
   "cell_type": "markdown",
   "metadata": {},
   "source": [
    "> [G]ene IDs may not map one-to-one to the gene information of interest. It is important to check for duplicated gene IDs. ([1](#Citations))\n",
    "\n",
    "Examine how many records in the annotation dataset have the same id (for the gene identifier type--either ENSEMBL or ENTREZ--set below) as another record occurring earlier in the dataset:"
   ]
  },
  {
   "cell_type": "code",
   "execution_count": 78,
   "metadata": {},
   "outputs": [],
   "source": [
    "gGeneIdCol <- \"ENSEMBL\"\n",
    "# gGeneIdCol <- \"ENTREZ\""
   ]
  },
  {
   "cell_type": "code",
   "execution_count": 79,
   "metadata": {},
   "outputs": [
    {
     "data": {
      "text/html": [
       "241"
      ],
      "text/latex": [
       "241"
      ],
      "text/markdown": [
       "241"
      ],
      "text/plain": [
       "[1] 241"
      ]
     },
     "metadata": {},
     "output_type": "display_data"
    }
   ],
   "source": [
    "gDuplicatesMask = duplicated(gRawGenesDf[[gGeneIdCol]])\n",
    "sum(gDuplicatesMask) # Sum counts only those with a value of TRUE"
   ]
  },
  {
   "cell_type": "markdown",
   "metadata": {},
   "source": [
    "Note that this sum includes only the second (or greater) instances of records for each gene id; the first record for each gene id is not included in this duplicate set.\n",
    "\n",
    "Write a file of the duplicate records that can be examined if desired: "
   ]
  },
  {
   "cell_type": "code",
   "execution_count": 80,
   "metadata": {},
   "outputs": [],
   "source": [
    "writeOutRemovedDuplicates = function(countsDf, duplicatesMask, outputDir, runName, geneType){\n",
    "    fileName = sprintf(\"%s_duplicated_%s_genes_records.csv\",runName, geneType)\n",
    "    duplicatedCountsDf = countsDf[duplicatesMask,]\n",
    "    write.csv(duplicatedCountsDf, file.path(outputDir, fileName))\n",
    "    print(paste0(\"Output file: \",fileName))\n",
    "}"
   ]
  },
  {
   "cell_type": "code",
   "execution_count": 81,
   "metadata": {},
   "outputs": [
    {
     "name": "stdout",
     "output_type": "stream",
     "text": [
      "[1] \"Output file: 20230302161642_duplicated_all_genes_records.csv\"\n"
     ]
    }
   ],
   "source": [
    "writeOutRemovedDuplicates(gRawGenesDf, gDuplicatesMask, gOutputDir_nb1, gRunName, gGeneType)"
   ]
  },
  {
   "cell_type": "markdown",
   "metadata": {},
   "source": [
    " As a basic approach, duplicate records for gene ids already existing in the annotation are removed"
   ]
  },
  {
   "cell_type": "code",
   "execution_count": 82,
   "metadata": {},
   "outputs": [],
   "source": [
    "gDeduplicatedGenesDf = gRawGenesDf[!duplicated(gRawGenesDf[[gGeneIdCol]]),]"
   ]
  },
  {
   "cell_type": "markdown",
   "metadata": {},
   "source": [
    "After deduplication, check the dimensions of the count data and the gene annotation data to ensure that the count dataframe has the same number of rows (genes) as the gene annotation dataframe has rows (again, genes), and that the gene names are the same in both:"
   ]
  },
  {
   "cell_type": "code",
   "execution_count": 83,
   "metadata": {},
   "outputs": [
    {
     "data": {
      "text/html": [
       "<style>\n",
       ".list-inline {list-style: none; margin:0; padding: 0}\n",
       ".list-inline>li {display: inline-block}\n",
       ".list-inline>li:not(:last-child)::after {content: \"\\00b7\"; padding: 0 .5ex}\n",
       "</style>\n",
       "<ol class=list-inline><li>60605</li><li>12</li></ol>\n"
      ],
      "text/latex": [
       "\\begin{enumerate*}\n",
       "\\item 60605\n",
       "\\item 12\n",
       "\\end{enumerate*}\n"
      ],
      "text/markdown": [
       "1. 60605\n",
       "2. 12\n",
       "\n",
       "\n"
      ],
      "text/plain": [
       "[1] 60605    12"
      ]
     },
     "metadata": {},
     "output_type": "display_data"
    },
    {
     "data": {
      "text/html": [
       "<style>\n",
       ".list-inline {list-style: none; margin:0; padding: 0}\n",
       ".list-inline>li {display: inline-block}\n",
       ".list-inline>li:not(:last-child)::after {content: \"\\00b7\"; padding: 0 .5ex}\n",
       "</style>\n",
       "<ol class=list-inline><li>60605</li><li>4</li></ol>\n"
      ],
      "text/latex": [
       "\\begin{enumerate*}\n",
       "\\item 60605\n",
       "\\item 4\n",
       "\\end{enumerate*}\n"
      ],
      "text/markdown": [
       "1. 60605\n",
       "2. 4\n",
       "\n",
       "\n"
      ],
      "text/plain": [
       "[1] 60605     4"
      ]
     },
     "metadata": {},
     "output_type": "display_data"
    },
    {
     "data": {
      "text/html": [
       "TRUE"
      ],
      "text/latex": [
       "TRUE"
      ],
      "text/markdown": [
       "TRUE"
      ],
      "text/plain": [
       "[1] TRUE"
      ]
     },
     "metadata": {},
     "output_type": "display_data"
    }
   ],
   "source": [
    "dim(gDgeList$counts)\n",
    "dim(gDeduplicatedGenesDf)\n",
    "\n",
    "all(rownames(gDgeList$counts) %in% gDeduplicatedGenesDf[[gGeneIdCol]])"
   ]
  },
  {
   "cell_type": "markdown",
   "metadata": {},
   "source": [
    "Add the annotation information to the DGEList object:"
   ]
  },
  {
   "cell_type": "code",
   "execution_count": 84,
   "metadata": {},
   "outputs": [
    {
     "data": {
      "text/html": [
       "<style>\n",
       ".list-inline {list-style: none; margin:0; padding: 0}\n",
       ".list-inline>li {display: inline-block}\n",
       ".list-inline>li:not(:last-child)::after {content: \"\\00b7\"; padding: 0 .5ex}\n",
       "</style>\n",
       "<ol class=list-inline><li>'counts'</li><li>'samples'</li><li>'genes'</li></ol>\n"
      ],
      "text/latex": [
       "\\begin{enumerate*}\n",
       "\\item 'counts'\n",
       "\\item 'samples'\n",
       "\\item 'genes'\n",
       "\\end{enumerate*}\n"
      ],
      "text/markdown": [
       "1. 'counts'\n",
       "2. 'samples'\n",
       "3. 'genes'\n",
       "\n",
       "\n"
      ],
      "text/plain": [
       "[1] \"counts\"  \"samples\" \"genes\"  "
      ]
     },
     "metadata": {},
     "output_type": "display_data"
    }
   ],
   "source": [
    "gDgeList$genes = gDeduplicatedGenesDf\n",
    "names(gDgeList)"
   ]
  },
  {
   "cell_type": "markdown",
   "metadata": {},
   "source": [
    "As a sanity-check, look at representative content from the DGEList:"
   ]
  },
  {
   "cell_type": "code",
   "execution_count": 85,
   "metadata": {},
   "outputs": [
    {
     "data": {
      "text/html": [
       "<table class=\"dataframe\">\n",
       "<caption>A matrix: 6 × 12 of type dbl</caption>\n",
       "<thead>\n",
       "\t<tr><th></th><th scope=col>VK2_NanH2_PolyB25_2h_1</th><th scope=col>VK2_NanH2_PolyB25_2h_2</th><th scope=col>VK2_NanH2_PolyB25_2h_3</th><th scope=col>VK2_NanH2_PolyB25_2h_4</th><th scope=col>VK2_NanH2_PolyB25_1h_5</th><th scope=col>VK2_NanH2_PolyB25_1h_6</th><th scope=col>VK2_NanH2_PolyB25_1h_7</th><th scope=col>VK2_NanH2_PolyB25_1h_8</th><th scope=col>VK2_Pet28a_PolyB25_2h_9</th><th scope=col>VK2_Pet28a_PolyB25_2h_10</th><th scope=col>VK2_Pet28a_PolyB25_2h_11</th><th scope=col>VK2_Pet28a_PolyB25_2h_12</th></tr>\n",
       "</thead>\n",
       "<tbody>\n",
       "\t<tr><th scope=row>ENSG00000000003</th><td> 356.00</td><td> 542.00</td><td> 364.00</td><td> 299.00</td><td> 502.00</td><td> 416.00</td><td> 424.00</td><td> 497.00</td><td> 323.00</td><td> 387.00</td><td> 465.00</td><td> 366.00</td></tr>\n",
       "\t<tr><th scope=row>ENSG00000000005</th><td>   0.00</td><td>   0.00</td><td>   0.00</td><td>   0.00</td><td>   0.00</td><td>   0.00</td><td>   0.00</td><td>   0.00</td><td>   0.00</td><td>   0.00</td><td>   0.00</td><td>   0.00</td></tr>\n",
       "\t<tr><th scope=row>ENSG00000000419</th><td>2080.11</td><td>3080.00</td><td>2206.80</td><td>1721.00</td><td>2340.00</td><td>2232.04</td><td>2253.00</td><td>2573.36</td><td>1904.05</td><td>2084.00</td><td>2412.42</td><td>2170.07</td></tr>\n",
       "\t<tr><th scope=row>ENSG00000000457</th><td> 113.88</td><td> 119.35</td><td>  85.84</td><td> 102.65</td><td> 153.65</td><td>  94.84</td><td> 112.33</td><td> 130.23</td><td> 119.77</td><td>  98.34</td><td> 120.36</td><td>  91.56</td></tr>\n",
       "\t<tr><th scope=row>ENSG00000000460</th><td> 181.12</td><td> 285.65</td><td> 181.16</td><td> 209.35</td><td> 254.35</td><td> 200.16</td><td> 242.67</td><td> 292.77</td><td> 234.23</td><td> 189.66</td><td> 190.64</td><td> 204.44</td></tr>\n",
       "\t<tr><th scope=row>ENSG00000000938</th><td>   4.00</td><td>  21.00</td><td>  10.00</td><td>  18.00</td><td>  10.00</td><td>   6.00</td><td>   6.00</td><td>   9.00</td><td>  10.00</td><td>  13.00</td><td>  17.00</td><td>  13.00</td></tr>\n",
       "</tbody>\n",
       "</table>\n"
      ],
      "text/latex": [
       "A matrix: 6 × 12 of type dbl\n",
       "\\begin{tabular}{r|llllllllllll}\n",
       "  & VK2\\_NanH2\\_PolyB25\\_2h\\_1 & VK2\\_NanH2\\_PolyB25\\_2h\\_2 & VK2\\_NanH2\\_PolyB25\\_2h\\_3 & VK2\\_NanH2\\_PolyB25\\_2h\\_4 & VK2\\_NanH2\\_PolyB25\\_1h\\_5 & VK2\\_NanH2\\_PolyB25\\_1h\\_6 & VK2\\_NanH2\\_PolyB25\\_1h\\_7 & VK2\\_NanH2\\_PolyB25\\_1h\\_8 & VK2\\_Pet28a\\_PolyB25\\_2h\\_9 & VK2\\_Pet28a\\_PolyB25\\_2h\\_10 & VK2\\_Pet28a\\_PolyB25\\_2h\\_11 & VK2\\_Pet28a\\_PolyB25\\_2h\\_12\\\\\n",
       "\\hline\n",
       "\tENSG00000000003 &  356.00 &  542.00 &  364.00 &  299.00 &  502.00 &  416.00 &  424.00 &  497.00 &  323.00 &  387.00 &  465.00 &  366.00\\\\\n",
       "\tENSG00000000005 &    0.00 &    0.00 &    0.00 &    0.00 &    0.00 &    0.00 &    0.00 &    0.00 &    0.00 &    0.00 &    0.00 &    0.00\\\\\n",
       "\tENSG00000000419 & 2080.11 & 3080.00 & 2206.80 & 1721.00 & 2340.00 & 2232.04 & 2253.00 & 2573.36 & 1904.05 & 2084.00 & 2412.42 & 2170.07\\\\\n",
       "\tENSG00000000457 &  113.88 &  119.35 &   85.84 &  102.65 &  153.65 &   94.84 &  112.33 &  130.23 &  119.77 &   98.34 &  120.36 &   91.56\\\\\n",
       "\tENSG00000000460 &  181.12 &  285.65 &  181.16 &  209.35 &  254.35 &  200.16 &  242.67 &  292.77 &  234.23 &  189.66 &  190.64 &  204.44\\\\\n",
       "\tENSG00000000938 &    4.00 &   21.00 &   10.00 &   18.00 &   10.00 &    6.00 &    6.00 &    9.00 &   10.00 &   13.00 &   17.00 &   13.00\\\\\n",
       "\\end{tabular}\n"
      ],
      "text/markdown": [
       "\n",
       "A matrix: 6 × 12 of type dbl\n",
       "\n",
       "| <!--/--> | VK2_NanH2_PolyB25_2h_1 | VK2_NanH2_PolyB25_2h_2 | VK2_NanH2_PolyB25_2h_3 | VK2_NanH2_PolyB25_2h_4 | VK2_NanH2_PolyB25_1h_5 | VK2_NanH2_PolyB25_1h_6 | VK2_NanH2_PolyB25_1h_7 | VK2_NanH2_PolyB25_1h_8 | VK2_Pet28a_PolyB25_2h_9 | VK2_Pet28a_PolyB25_2h_10 | VK2_Pet28a_PolyB25_2h_11 | VK2_Pet28a_PolyB25_2h_12 |\n",
       "|---|---|---|---|---|---|---|---|---|---|---|---|---|\n",
       "| ENSG00000000003 |  356.00 |  542.00 |  364.00 |  299.00 |  502.00 |  416.00 |  424.00 |  497.00 |  323.00 |  387.00 |  465.00 |  366.00 |\n",
       "| ENSG00000000005 |    0.00 |    0.00 |    0.00 |    0.00 |    0.00 |    0.00 |    0.00 |    0.00 |    0.00 |    0.00 |    0.00 |    0.00 |\n",
       "| ENSG00000000419 | 2080.11 | 3080.00 | 2206.80 | 1721.00 | 2340.00 | 2232.04 | 2253.00 | 2573.36 | 1904.05 | 2084.00 | 2412.42 | 2170.07 |\n",
       "| ENSG00000000457 |  113.88 |  119.35 |   85.84 |  102.65 |  153.65 |   94.84 |  112.33 |  130.23 |  119.77 |   98.34 |  120.36 |   91.56 |\n",
       "| ENSG00000000460 |  181.12 |  285.65 |  181.16 |  209.35 |  254.35 |  200.16 |  242.67 |  292.77 |  234.23 |  189.66 |  190.64 |  204.44 |\n",
       "| ENSG00000000938 |    4.00 |   21.00 |   10.00 |   18.00 |   10.00 |    6.00 |    6.00 |    9.00 |   10.00 |   13.00 |   17.00 |   13.00 |\n",
       "\n"
      ],
      "text/plain": [
       "                VK2_NanH2_PolyB25_2h_1 VK2_NanH2_PolyB25_2h_2\n",
       "ENSG00000000003  356.00                 542.00               \n",
       "ENSG00000000005    0.00                   0.00               \n",
       "ENSG00000000419 2080.11                3080.00               \n",
       "ENSG00000000457  113.88                 119.35               \n",
       "ENSG00000000460  181.12                 285.65               \n",
       "ENSG00000000938    4.00                  21.00               \n",
       "                VK2_NanH2_PolyB25_2h_3 VK2_NanH2_PolyB25_2h_4\n",
       "ENSG00000000003  364.00                 299.00               \n",
       "ENSG00000000005    0.00                   0.00               \n",
       "ENSG00000000419 2206.80                1721.00               \n",
       "ENSG00000000457   85.84                 102.65               \n",
       "ENSG00000000460  181.16                 209.35               \n",
       "ENSG00000000938   10.00                  18.00               \n",
       "                VK2_NanH2_PolyB25_1h_5 VK2_NanH2_PolyB25_1h_6\n",
       "ENSG00000000003  502.00                 416.00               \n",
       "ENSG00000000005    0.00                   0.00               \n",
       "ENSG00000000419 2340.00                2232.04               \n",
       "ENSG00000000457  153.65                  94.84               \n",
       "ENSG00000000460  254.35                 200.16               \n",
       "ENSG00000000938   10.00                   6.00               \n",
       "                VK2_NanH2_PolyB25_1h_7 VK2_NanH2_PolyB25_1h_8\n",
       "ENSG00000000003  424.00                 497.00               \n",
       "ENSG00000000005    0.00                   0.00               \n",
       "ENSG00000000419 2253.00                2573.36               \n",
       "ENSG00000000457  112.33                 130.23               \n",
       "ENSG00000000460  242.67                 292.77               \n",
       "ENSG00000000938    6.00                   9.00               \n",
       "                VK2_Pet28a_PolyB25_2h_9 VK2_Pet28a_PolyB25_2h_10\n",
       "ENSG00000000003  323.00                  387.00                 \n",
       "ENSG00000000005    0.00                    0.00                 \n",
       "ENSG00000000419 1904.05                 2084.00                 \n",
       "ENSG00000000457  119.77                   98.34                 \n",
       "ENSG00000000460  234.23                  189.66                 \n",
       "ENSG00000000938   10.00                   13.00                 \n",
       "                VK2_Pet28a_PolyB25_2h_11 VK2_Pet28a_PolyB25_2h_12\n",
       "ENSG00000000003  465.00                   366.00                 \n",
       "ENSG00000000005    0.00                     0.00                 \n",
       "ENSG00000000419 2412.42                  2170.07                 \n",
       "ENSG00000000457  120.36                    91.56                 \n",
       "ENSG00000000460  190.64                   204.44                 \n",
       "ENSG00000000938   17.00                    13.00                 "
      ]
     },
     "metadata": {},
     "output_type": "display_data"
    },
    {
     "data": {
      "text/html": [
       "<table class=\"dataframe\">\n",
       "<caption>A data.frame: 6 × 10</caption>\n",
       "<thead>\n",
       "\t<tr><th></th><th scope=col>group</th><th scope=col>lib.size</th><th scope=col>norm.factors</th><th scope=col>Sample.Name</th><th scope=col>Sample.Code</th><th scope=col>Reference.Genome..Organism.</th><th scope=col>Gender</th><th scope=col>Condition</th><th scope=col>Time.point</th><th scope=col>Condition_Time</th></tr>\n",
       "\t<tr><th></th><th scope=col>&lt;fct&gt;</th><th scope=col>&lt;dbl&gt;</th><th scope=col>&lt;dbl&gt;</th><th scope=col>&lt;chr&gt;</th><th scope=col>&lt;chr&gt;</th><th scope=col>&lt;chr&gt;</th><th scope=col>&lt;chr&gt;</th><th scope=col>&lt;chr&gt;</th><th scope=col>&lt;chr&gt;</th><th scope=col>&lt;chr&gt;</th></tr>\n",
       "</thead>\n",
       "<tbody>\n",
       "\t<tr><th scope=row>VK2_NanH2_PolyB25_2h_1</th><td>NanH2_treated_2H</td><td>22490889</td><td>1</td><td>VK2_NanH2_PolyB25_2h_1</td><td>K001</td><td>Human</td><td>Female</td><td>NanH2_treated</td><td>2H</td><td>NanH2_treated_2H</td></tr>\n",
       "\t<tr><th scope=row>VK2_NanH2_PolyB25_2h_2</th><td>NanH2_treated_2H</td><td>31232480</td><td>1</td><td>VK2_NanH2_PolyB25_2h_2</td><td>K002</td><td>Human</td><td>Female</td><td>NanH2_treated</td><td>2H</td><td>NanH2_treated_2H</td></tr>\n",
       "\t<tr><th scope=row>VK2_NanH2_PolyB25_2h_3</th><td>NanH2_treated_2H</td><td>21901342</td><td>1</td><td>VK2_NanH2_PolyB25_2h_3</td><td>K003</td><td>Human</td><td>Female</td><td>NanH2_treated</td><td>2H</td><td>NanH2_treated_2H</td></tr>\n",
       "\t<tr><th scope=row>VK2_NanH2_PolyB25_2h_4</th><td>NanH2_treated_2H</td><td>19637114</td><td>1</td><td>VK2_NanH2_PolyB25_2h_4</td><td>K004</td><td>Human</td><td>Female</td><td>NanH2_treated</td><td>2H</td><td>NanH2_treated_2H</td></tr>\n",
       "\t<tr><th scope=row>VK2_NanH2_PolyB25_1h_5</th><td>NanH2_treated_1H</td><td>27468016</td><td>1</td><td>VK2_NanH2_PolyB25_1h_5</td><td>K005</td><td>Human</td><td>Female</td><td>NanH2_treated</td><td>1H</td><td>NanH2_treated_1H</td></tr>\n",
       "\t<tr><th scope=row>VK2_NanH2_PolyB25_1h_6</th><td>NanH2_treated_1H</td><td>24935803</td><td>1</td><td>VK2_NanH2_PolyB25_1h_6</td><td>K006</td><td>Human</td><td>Female</td><td>NanH2_treated</td><td>1H</td><td>NanH2_treated_1H</td></tr>\n",
       "</tbody>\n",
       "</table>\n"
      ],
      "text/latex": [
       "A data.frame: 6 × 10\n",
       "\\begin{tabular}{r|llllllllll}\n",
       "  & group & lib.size & norm.factors & Sample.Name & Sample.Code & Reference.Genome..Organism. & Gender & Condition & Time.point & Condition\\_Time\\\\\n",
       "  & <fct> & <dbl> & <dbl> & <chr> & <chr> & <chr> & <chr> & <chr> & <chr> & <chr>\\\\\n",
       "\\hline\n",
       "\tVK2\\_NanH2\\_PolyB25\\_2h\\_1 & NanH2\\_treated\\_2H & 22490889 & 1 & VK2\\_NanH2\\_PolyB25\\_2h\\_1 & K001 & Human & Female & NanH2\\_treated & 2H & NanH2\\_treated\\_2H\\\\\n",
       "\tVK2\\_NanH2\\_PolyB25\\_2h\\_2 & NanH2\\_treated\\_2H & 31232480 & 1 & VK2\\_NanH2\\_PolyB25\\_2h\\_2 & K002 & Human & Female & NanH2\\_treated & 2H & NanH2\\_treated\\_2H\\\\\n",
       "\tVK2\\_NanH2\\_PolyB25\\_2h\\_3 & NanH2\\_treated\\_2H & 21901342 & 1 & VK2\\_NanH2\\_PolyB25\\_2h\\_3 & K003 & Human & Female & NanH2\\_treated & 2H & NanH2\\_treated\\_2H\\\\\n",
       "\tVK2\\_NanH2\\_PolyB25\\_2h\\_4 & NanH2\\_treated\\_2H & 19637114 & 1 & VK2\\_NanH2\\_PolyB25\\_2h\\_4 & K004 & Human & Female & NanH2\\_treated & 2H & NanH2\\_treated\\_2H\\\\\n",
       "\tVK2\\_NanH2\\_PolyB25\\_1h\\_5 & NanH2\\_treated\\_1H & 27468016 & 1 & VK2\\_NanH2\\_PolyB25\\_1h\\_5 & K005 & Human & Female & NanH2\\_treated & 1H & NanH2\\_treated\\_1H\\\\\n",
       "\tVK2\\_NanH2\\_PolyB25\\_1h\\_6 & NanH2\\_treated\\_1H & 24935803 & 1 & VK2\\_NanH2\\_PolyB25\\_1h\\_6 & K006 & Human & Female & NanH2\\_treated & 1H & NanH2\\_treated\\_1H\\\\\n",
       "\\end{tabular}\n"
      ],
      "text/markdown": [
       "\n",
       "A data.frame: 6 × 10\n",
       "\n",
       "| <!--/--> | group &lt;fct&gt; | lib.size &lt;dbl&gt; | norm.factors &lt;dbl&gt; | Sample.Name &lt;chr&gt; | Sample.Code &lt;chr&gt; | Reference.Genome..Organism. &lt;chr&gt; | Gender &lt;chr&gt; | Condition &lt;chr&gt; | Time.point &lt;chr&gt; | Condition_Time &lt;chr&gt; |\n",
       "|---|---|---|---|---|---|---|---|---|---|---|\n",
       "| VK2_NanH2_PolyB25_2h_1 | NanH2_treated_2H | 22490889 | 1 | VK2_NanH2_PolyB25_2h_1 | K001 | Human | Female | NanH2_treated | 2H | NanH2_treated_2H |\n",
       "| VK2_NanH2_PolyB25_2h_2 | NanH2_treated_2H | 31232480 | 1 | VK2_NanH2_PolyB25_2h_2 | K002 | Human | Female | NanH2_treated | 2H | NanH2_treated_2H |\n",
       "| VK2_NanH2_PolyB25_2h_3 | NanH2_treated_2H | 21901342 | 1 | VK2_NanH2_PolyB25_2h_3 | K003 | Human | Female | NanH2_treated | 2H | NanH2_treated_2H |\n",
       "| VK2_NanH2_PolyB25_2h_4 | NanH2_treated_2H | 19637114 | 1 | VK2_NanH2_PolyB25_2h_4 | K004 | Human | Female | NanH2_treated | 2H | NanH2_treated_2H |\n",
       "| VK2_NanH2_PolyB25_1h_5 | NanH2_treated_1H | 27468016 | 1 | VK2_NanH2_PolyB25_1h_5 | K005 | Human | Female | NanH2_treated | 1H | NanH2_treated_1H |\n",
       "| VK2_NanH2_PolyB25_1h_6 | NanH2_treated_1H | 24935803 | 1 | VK2_NanH2_PolyB25_1h_6 | K006 | Human | Female | NanH2_treated | 1H | NanH2_treated_1H |\n",
       "\n"
      ],
      "text/plain": [
       "                       group            lib.size norm.factors\n",
       "VK2_NanH2_PolyB25_2h_1 NanH2_treated_2H 22490889 1           \n",
       "VK2_NanH2_PolyB25_2h_2 NanH2_treated_2H 31232480 1           \n",
       "VK2_NanH2_PolyB25_2h_3 NanH2_treated_2H 21901342 1           \n",
       "VK2_NanH2_PolyB25_2h_4 NanH2_treated_2H 19637114 1           \n",
       "VK2_NanH2_PolyB25_1h_5 NanH2_treated_1H 27468016 1           \n",
       "VK2_NanH2_PolyB25_1h_6 NanH2_treated_1H 24935803 1           \n",
       "                       Sample.Name            Sample.Code\n",
       "VK2_NanH2_PolyB25_2h_1 VK2_NanH2_PolyB25_2h_1 K001       \n",
       "VK2_NanH2_PolyB25_2h_2 VK2_NanH2_PolyB25_2h_2 K002       \n",
       "VK2_NanH2_PolyB25_2h_3 VK2_NanH2_PolyB25_2h_3 K003       \n",
       "VK2_NanH2_PolyB25_2h_4 VK2_NanH2_PolyB25_2h_4 K004       \n",
       "VK2_NanH2_PolyB25_1h_5 VK2_NanH2_PolyB25_1h_5 K005       \n",
       "VK2_NanH2_PolyB25_1h_6 VK2_NanH2_PolyB25_1h_6 K006       \n",
       "                       Reference.Genome..Organism. Gender Condition    \n",
       "VK2_NanH2_PolyB25_2h_1 Human                       Female NanH2_treated\n",
       "VK2_NanH2_PolyB25_2h_2 Human                       Female NanH2_treated\n",
       "VK2_NanH2_PolyB25_2h_3 Human                       Female NanH2_treated\n",
       "VK2_NanH2_PolyB25_2h_4 Human                       Female NanH2_treated\n",
       "VK2_NanH2_PolyB25_1h_5 Human                       Female NanH2_treated\n",
       "VK2_NanH2_PolyB25_1h_6 Human                       Female NanH2_treated\n",
       "                       Time.point Condition_Time  \n",
       "VK2_NanH2_PolyB25_2h_1 2H         NanH2_treated_2H\n",
       "VK2_NanH2_PolyB25_2h_2 2H         NanH2_treated_2H\n",
       "VK2_NanH2_PolyB25_2h_3 2H         NanH2_treated_2H\n",
       "VK2_NanH2_PolyB25_2h_4 2H         NanH2_treated_2H\n",
       "VK2_NanH2_PolyB25_1h_5 1H         NanH2_treated_1H\n",
       "VK2_NanH2_PolyB25_1h_6 1H         NanH2_treated_1H"
      ]
     },
     "metadata": {},
     "output_type": "display_data"
    },
    {
     "data": {
      "text/html": [
       "<table class=\"dataframe\">\n",
       "<caption>A data.frame: 6 × 4</caption>\n",
       "<thead>\n",
       "\t<tr><th></th><th scope=col>ENSEMBL</th><th scope=col>ENTREZID</th><th scope=col>SYMBOL</th><th scope=col>gene_type</th></tr>\n",
       "\t<tr><th></th><th scope=col>&lt;chr&gt;</th><th scope=col>&lt;chr&gt;</th><th scope=col>&lt;chr&gt;</th><th scope=col>&lt;chr&gt;</th></tr>\n",
       "</thead>\n",
       "<tbody>\n",
       "\t<tr><th scope=row>1</th><td>ENSG00000000003</td><td>7105 </td><td>TSPAN6  </td><td>protein_coding</td></tr>\n",
       "\t<tr><th scope=row>2</th><td>ENSG00000000005</td><td>64102</td><td>TNMD    </td><td>protein_coding</td></tr>\n",
       "\t<tr><th scope=row>3</th><td>ENSG00000000419</td><td>8813 </td><td>DPM1    </td><td>protein_coding</td></tr>\n",
       "\t<tr><th scope=row>4</th><td>ENSG00000000457</td><td>57147</td><td>SCYL3   </td><td>protein_coding</td></tr>\n",
       "\t<tr><th scope=row>5</th><td>ENSG00000000460</td><td>55732</td><td>C1orf112</td><td>protein_coding</td></tr>\n",
       "\t<tr><th scope=row>6</th><td>ENSG00000000938</td><td>2268 </td><td>FGR     </td><td>protein_coding</td></tr>\n",
       "</tbody>\n",
       "</table>\n"
      ],
      "text/latex": [
       "A data.frame: 6 × 4\n",
       "\\begin{tabular}{r|llll}\n",
       "  & ENSEMBL & ENTREZID & SYMBOL & gene\\_type\\\\\n",
       "  & <chr> & <chr> & <chr> & <chr>\\\\\n",
       "\\hline\n",
       "\t1 & ENSG00000000003 & 7105  & TSPAN6   & protein\\_coding\\\\\n",
       "\t2 & ENSG00000000005 & 64102 & TNMD     & protein\\_coding\\\\\n",
       "\t3 & ENSG00000000419 & 8813  & DPM1     & protein\\_coding\\\\\n",
       "\t4 & ENSG00000000457 & 57147 & SCYL3    & protein\\_coding\\\\\n",
       "\t5 & ENSG00000000460 & 55732 & C1orf112 & protein\\_coding\\\\\n",
       "\t6 & ENSG00000000938 & 2268  & FGR      & protein\\_coding\\\\\n",
       "\\end{tabular}\n"
      ],
      "text/markdown": [
       "\n",
       "A data.frame: 6 × 4\n",
       "\n",
       "| <!--/--> | ENSEMBL &lt;chr&gt; | ENTREZID &lt;chr&gt; | SYMBOL &lt;chr&gt; | gene_type &lt;chr&gt; |\n",
       "|---|---|---|---|---|\n",
       "| 1 | ENSG00000000003 | 7105  | TSPAN6   | protein_coding |\n",
       "| 2 | ENSG00000000005 | 64102 | TNMD     | protein_coding |\n",
       "| 3 | ENSG00000000419 | 8813  | DPM1     | protein_coding |\n",
       "| 4 | ENSG00000000457 | 57147 | SCYL3    | protein_coding |\n",
       "| 5 | ENSG00000000460 | 55732 | C1orf112 | protein_coding |\n",
       "| 6 | ENSG00000000938 | 2268  | FGR      | protein_coding |\n",
       "\n"
      ],
      "text/plain": [
       "  ENSEMBL         ENTREZID SYMBOL   gene_type     \n",
       "1 ENSG00000000003 7105     TSPAN6   protein_coding\n",
       "2 ENSG00000000005 64102    TNMD     protein_coding\n",
       "3 ENSG00000000419 8813     DPM1     protein_coding\n",
       "4 ENSG00000000457 57147    SCYL3    protein_coding\n",
       "5 ENSG00000000460 55732    C1orf112 protein_coding\n",
       "6 ENSG00000000938 2268     FGR      protein_coding"
      ]
     },
     "metadata": {},
     "output_type": "display_data"
    }
   ],
   "source": [
    "head(gDgeList$counts)\n",
    "head(gDgeList$samples)\n",
    "head(gDgeList$genes)"
   ]
  },
  {
   "cell_type": "markdown",
   "metadata": {},
   "source": [
    "[Table of Contents](#Table-of-Contents)\n",
    "\n",
    "## Summary"
   ]
  },
  {
   "cell_type": "markdown",
   "metadata": {},
   "source": [
    "**Gene annotations**\n",
    "* Human gene annotations were taken from the Gencode project, Release 43 (GRCh38.p13).\n",
    "\n",
    "**Gene type filtering**\n",
    "* This analysis was includes protein-coding genes and non-coding genes.  Of the original 60,605 Ensembl genes in the dataset, 19,937 are known coding genes.  \n"
   ]
  },
  {
   "cell_type": "markdown",
   "metadata": {},
   "source": [
    "Save the workspace objects for future reference:"
   ]
  },
  {
   "cell_type": "code",
   "execution_count": 86,
   "metadata": {},
   "outputs": [
    {
     "name": "stdout",
     "output_type": "stream",
     "text": [
      "[1] \"Output file: 20230302161642_data_integration.RData\"\n"
     ]
    }
   ],
   "source": [
    "writeWorkspaceImage(gInterimDir, paste0(gRunName,\"_data_integration\"))"
   ]
  },
  {
   "cell_type": "markdown",
   "metadata": {},
   "source": [
    "[Table of Contents](#Table-of-Contents)\n",
    "\n",
    "## Citations\n",
    "\n",
    "1. Law CW, Alhamdoosh M, Su S, Smyth GK, Ritchie ME. RNA-seq analysis is easy as 1-2-3 with limma, Glimma and edgeR. Version 2. F1000Res. 2016 Jun 17 [revised 2016 Jan 1];5:1408.\n",
    "2. Robinson MD, McCarthy DJ and Smyth GK (2010). edgeR: a Bioconductor package for differential expression analysis of digital gene expression data. Bioinformatics 26, 139-140.\n",
    "3. Huber W, Carey VJ, Gentleman R, Anders S, Carlson M, Carvalho BS, Bravo HC, Davis S, Gatto L, Girke T, Gottardo R, Hahne F, Hansen KD, Irizarry RA, Lawrence M, Love MI, MacDonald J, Obenchain V, Oleś AK, Pagès H, Reyes A, Shannon P, Smyth GK, Tenenbaum D, Waldron L, Morgan M. Orchestrating high-throughput genomic analysis with Bioconductor. Nat Methods. 2015 Feb;12(2):115-21.\n",
    "4. R Core Team (2016). R: A language and environment for statistical computing. R Foundation for Statistical Computing, Vienna, Austria. URL https://www.R-project.org/."
   ]
  },
  {
   "cell_type": "markdown",
   "metadata": {},
   "source": [
    "[Table of Contents](#Table-of-Contents)\n",
    "\n",
    "## Appendix: R Session Info"
   ]
  },
  {
   "cell_type": "code",
   "execution_count": 87,
   "metadata": {},
   "outputs": [
    {
     "data": {
      "text/plain": [
       "[1] \"2023-03-03 10:48:37 MST\""
      ]
     },
     "metadata": {},
     "output_type": "display_data"
    },
    {
     "data": {
      "text/plain": [
       "R version 4.1.3 (2022-03-10)\n",
       "Platform: x86_64-apple-darwin13.4.0 (64-bit)\n",
       "Running under: macOS Big Sur/Monterey 10.16\n",
       "\n",
       "Matrix products: default\n",
       "BLAS/LAPACK: /Users/dchilinfuentes/opt/anaconda3/envs/RNAseq_env/lib/libopenblasp-r0.3.20.dylib\n",
       "\n",
       "locale:\n",
       "[1] en_US.UTF-8/en_US.UTF-8/en_US.UTF-8/C/en_US.UTF-8/en_US.UTF-8\n",
       "\n",
       "attached base packages:\n",
       "[1] stats4    stats     graphics  grDevices utils     datasets  methods  \n",
       "[8] base     \n",
       "\n",
       "other attached packages:\n",
       " [1] edgeR_3.36.0                           \n",
       " [2] limma_3.50.3                           \n",
       " [3] Homo.sapiens_1.3.1                     \n",
       " [4] TxDb.Hsapiens.UCSC.hg19.knownGene_3.2.2\n",
       " [5] org.Hs.eg.db_3.14.0                    \n",
       " [6] GO.db_3.14.0                           \n",
       " [7] OrganismDbi_1.36.0                     \n",
       " [8] GenomicFeatures_1.46.5                 \n",
       " [9] GenomicRanges_1.46.1                   \n",
       "[10] GenomeInfoDb_1.30.1                    \n",
       "[11] AnnotationDbi_1.56.2                   \n",
       "[12] IRanges_2.28.0                         \n",
       "[13] S4Vectors_0.32.4                       \n",
       "[14] Biobase_2.54.0                         \n",
       "[15] BiocGenerics_0.40.0                    \n",
       "\n",
       "loaded via a namespace (and not attached):\n",
       " [1] MatrixGenerics_1.6.0        httr_1.4.3                 \n",
       " [3] bit64_4.0.5                 jsonlite_1.8.0             \n",
       " [5] assertthat_0.2.1            BiocManager_1.30.18        \n",
       " [7] BiocFileCache_2.2.1         RBGL_1.70.0                \n",
       " [9] blob_1.2.3                  GenomeInfoDbData_1.2.7     \n",
       "[11] Rsamtools_2.10.0            yaml_2.3.5                 \n",
       "[13] progress_1.2.2              pillar_1.8.0               \n",
       "[15] RSQLite_2.2.15              lattice_0.20-45            \n",
       "[17] glue_1.6.2                  uuid_1.1-0                 \n",
       "[19] digest_0.6.29               XVector_0.34.0             \n",
       "[21] htmltools_0.5.3             Matrix_1.4-1               \n",
       "[23] XML_3.99-0.10               pkgconfig_2.0.3            \n",
       "[25] biomaRt_2.50.3              zlibbioc_1.40.0            \n",
       "[27] purrr_0.3.4                 BiocParallel_1.28.3        \n",
       "[29] tibble_3.1.8                KEGGREST_1.34.0            \n",
       "[31] generics_0.1.3              ellipsis_0.3.2             \n",
       "[33] cachem_1.0.6                SummarizedExperiment_1.24.0\n",
       "[35] repr_1.1.4                  cli_3.3.0                  \n",
       "[37] magrittr_2.0.3              crayon_1.5.1               \n",
       "[39] memoise_2.0.1               evaluate_0.16              \n",
       "[41] fansi_1.0.3                 xml2_1.3.3                 \n",
       "[43] graph_1.72.0                tools_4.1.3                \n",
       "[45] prettyunits_1.1.1           hms_1.1.1                  \n",
       "[47] BiocIO_1.4.0                lifecycle_1.0.1            \n",
       "[49] matrixStats_0.62.0          stringr_1.4.0              \n",
       "[51] locfit_1.5-9.6              DelayedArray_0.20.0        \n",
       "[53] Biostrings_2.62.0           compiler_4.1.3             \n",
       "[55] rlang_1.0.4                 grid_4.1.3                 \n",
       "[57] RCurl_1.98-1.8              pbdZMQ_0.3-7               \n",
       "[59] IRkernel_1.3                rjson_0.2.21               \n",
       "[61] rappdirs_0.3.3              bitops_1.0-7               \n",
       "[63] base64enc_0.1-3             restfulr_0.0.15            \n",
       "[65] DBI_1.1.3                   curl_4.3.2                 \n",
       "[67] R6_2.5.1                    GenomicAlignments_1.30.0   \n",
       "[69] dplyr_1.0.9                 rtracklayer_1.54.0         \n",
       "[71] fastmap_1.1.0               bit_4.0.4                  \n",
       "[73] utf8_1.2.2                  filelock_1.0.2             \n",
       "[75] stringi_1.7.8               parallel_4.1.3             \n",
       "[77] IRdisplay_1.1               Rcpp_1.0.9                 \n",
       "[79] vctrs_0.4.1                 png_0.1-7                  \n",
       "[81] dbplyr_2.2.1                tidyselect_1.1.2           "
      ]
     },
     "metadata": {},
     "output_type": "display_data"
    }
   ],
   "source": [
    "Sys.time()\n",
    "sessionInfo()"
   ]
  },
  {
   "cell_type": "markdown",
   "metadata": {},
   "source": [
    "[Table of Contents](#Table-of-Contents)\n",
    "\n",
    "Copyright (c) 2018 UC San Diego Center for Computational Biology & Bioinformatics under the MIT License\n",
    "\n",
    "Notebook template by Amanda Birmingham"
   ]
  }
 ],
 "metadata": {
  "kernelspec": {
   "display_name": "R",
   "language": "R",
   "name": "ir"
  },
  "language_info": {
   "codemirror_mode": "r",
   "file_extension": ".r",
   "mimetype": "text/x-r-source",
   "name": "R",
   "pygments_lexer": "r",
   "version": "4.1.3"
  }
 },
 "nbformat": 4,
 "nbformat_minor": 2
}
